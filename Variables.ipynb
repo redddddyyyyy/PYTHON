{
 "cells": [
  {
   "cell_type": "markdown",
   "id": "0a446aad-0fc8-4ad0-815b-3803fea155db",
   "metadata": {},
   "source": [
    "# Python Variables"
   ]
  },
  {
   "cell_type": "markdown",
   "id": "395f01f4-93ff-4c3a-9d62-67354f154d44",
   "metadata": {},
   "source": [
    "Python is a dynamically typed language, meaning Python recognizes the type of variable automatically. Therefore, the programmer does not need to define the data type when defining the variable. Python discerns the type of the variable from the value it is assigned. It is opposed to statically typed languages like C++ or JavaScript, which require the programmer to declare the type of the variable while defining it.\n",
    "\n",
    ". reserve memory locations"
   ]
  },
  {
   "cell_type": "markdown",
   "id": "a24a3a8a-5b70-4e4a-9c71-182b3291df4d",
   "metadata": {},
   "source": [
    ". when u create a variable you reserve some space in the memory"
   ]
  },
  {
   "cell_type": "markdown",
   "id": "307a6731-6e07-461f-972c-1f3a6bc3d670",
   "metadata": {},
   "source": [
    ". containers for storing data valuse"
   ]
  },
  {
   "cell_type": "code",
   "execution_count": 5,
   "id": "e799fb60-8e49-4efc-ac57-338530cf1add",
   "metadata": {},
   "outputs": [
    {
     "name": "stdout",
     "output_type": "stream",
     "text": [
      "7\n"
     ]
    }
   ],
   "source": [
    "# creating a variable\n",
    "\n",
    "f = 7\n",
    "print(f)\n",
    "# f is a variable and stores a value 07"
   ]
  },
  {
   "cell_type": "markdown",
   "id": "47daf1ef-ef1a-4721-aa5a-b99111493780",
   "metadata": {},
   "source": [
    "# Rules to create variable"
   ]
  },
  {
   "cell_type": "markdown",
   "id": "c0f0b038-e933-4bff-9972-3abd7f8b3cde",
   "metadata": {},
   "source": [
    ". Can only contain alpha numeric characters and underscore(A-z) and _"
   ]
  },
  {
   "cell_type": "markdown",
   "id": "2290536a-d58a-45fc-8dcc-c2b646618e7d",
   "metadata": {},
   "source": [
    ". cannot start with a number or special charecter"
   ]
  },
  {
   "cell_type": "markdown",
   "id": "66f16183-9f18-45f5-b21a-bcc86d7e48a8",
   "metadata": {},
   "source": [
    ". key words cannot be used"
   ]
  },
  {
   "cell_type": "markdown",
   "id": "24e37f26-b9cc-4f2e-a84c-72e0df772903",
   "metadata": {},
   "source": [
    ". case-sensitive"
   ]
  },
  {
   "cell_type": "markdown",
   "id": "4823de2f-71c2-4cc3-95d0-4549a9ab0e04",
   "metadata": {},
   "source": [
    ". cant start with digits"
   ]
  },
  {
   "cell_type": "code",
   "execution_count": 13,
   "id": "22b323ee-b686-4d19-b04e-89c0e9779e5f",
   "metadata": {},
   "outputs": [
    {
     "name": "stdout",
     "output_type": "stream",
     "text": [
      "99\n"
     ]
    }
   ],
   "source": [
    "# valid variables \n",
    "\n",
    "var = 99\n",
    "var_1 = 99\n",
    "_var = 99\n",
    "\n",
    "print(var)"
   ]
  },
  {
   "cell_type": "code",
   "execution_count": 15,
   "id": "4077a4d4-b382-4a91-8b7c-8fba0eff0670",
   "metadata": {},
   "outputs": [
    {
     "ename": "SyntaxError",
     "evalue": "invalid decimal literal (2321887493.py, line 3)",
     "output_type": "error",
     "traceback": [
      "\u001b[0;36m  Cell \u001b[0;32mIn[15], line 3\u001b[0;36m\u001b[0m\n\u001b[0;31m    1var = 99\u001b[0m\n\u001b[0m    ^\u001b[0m\n\u001b[0;31mSyntaxError\u001b[0m\u001b[0;31m:\u001b[0m invalid decimal literal\n"
     ]
    }
   ],
   "source": [
    "# invalid variables\n",
    "\n",
    "1var = 99\n",
    "for = 99\n",
    "print (1var)"
   ]
  },
  {
   "cell_type": "code",
   "execution_count": 18,
   "id": "1e07096b-3ae7-45bd-a153-b726fcb79ca5",
   "metadata": {},
   "outputs": [
    {
     "name": "stdout",
     "output_type": "stream",
     "text": [
      "9\n"
     ]
    }
   ],
   "source": [
    "# valid variables\n",
    "a = 9\n",
    "print(a)"
   ]
  },
  {
   "cell_type": "code",
   "execution_count": 20,
   "id": "7de30410-8f4a-46b2-9573-b5cad457e35d",
   "metadata": {},
   "outputs": [
    {
     "name": "stdout",
     "output_type": "stream",
     "text": [
      "5\n"
     ]
    }
   ],
   "source": [
    "b = 5\n",
    "print(b)"
   ]
  },
  {
   "cell_type": "code",
   "execution_count": 22,
   "id": "28a4fa81-baba-4526-b33e-9b387ff02fad",
   "metadata": {},
   "outputs": [
    {
     "name": "stdout",
     "output_type": "stream",
     "text": [
      "6\n"
     ]
    }
   ],
   "source": [
    "c = 6\n",
    "print(c)"
   ]
  },
  {
   "cell_type": "code",
   "execution_count": 24,
   "id": "2144b26c-568c-4702-b934-b06a3fe3b762",
   "metadata": {},
   "outputs": [
    {
     "name": "stdout",
     "output_type": "stream",
     "text": [
      "7\n"
     ]
    }
   ],
   "source": [
    "d = 7\n",
    "print(d)"
   ]
  },
  {
   "cell_type": "code",
   "execution_count": 26,
   "id": "301c7c72-0c65-404e-a4eb-8fb133894f28",
   "metadata": {},
   "outputs": [
    {
     "name": "stdout",
     "output_type": "stream",
     "text": [
      "6\n"
     ]
    }
   ],
   "source": [
    "xyz = 6\n",
    "print(xyz)"
   ]
  },
  {
   "cell_type": "code",
   "execution_count": 28,
   "id": "50979a7f-aa23-45cb-be50-bad71a798923",
   "metadata": {},
   "outputs": [
    {
     "name": "stdout",
     "output_type": "stream",
     "text": [
      "8\n"
     ]
    }
   ],
   "source": [
    "_gh1 = 8\n",
    "print(_gh1)"
   ]
  },
  {
   "cell_type": "code",
   "execution_count": 30,
   "id": "8ffea78c-0200-406e-83f3-f1b6219a24b2",
   "metadata": {},
   "outputs": [
    {
     "name": "stdout",
     "output_type": "stream",
     "text": [
      "5\n"
     ]
    }
   ],
   "source": [
    "hh_ = 5\n",
    "print(hh_)"
   ]
  },
  {
   "cell_type": "code",
   "execution_count": 32,
   "id": "11bd3ebb-bc4f-4bf2-a357-9f8a2f916b1c",
   "metadata": {},
   "outputs": [
    {
     "name": "stdout",
     "output_type": "stream",
     "text": [
      "88\n"
     ]
    }
   ],
   "source": [
    "df_7 = 88\n",
    "print(df_7)"
   ]
  },
  {
   "cell_type": "code",
   "execution_count": 39,
   "id": "31f97a28-5cb0-49ef-b085-bc07b662f130",
   "metadata": {},
   "outputs": [
    {
     "name": "stdout",
     "output_type": "stream",
     "text": [
      "8\n"
     ]
    }
   ],
   "source": [
    "the_88 = 8\n",
    "print(the_88)"
   ]
  },
  {
   "cell_type": "code",
   "execution_count": 41,
   "id": "0635dc7c-d6cf-4267-ab12-f4cee157d9ed",
   "metadata": {},
   "outputs": [
    {
     "name": "stdout",
     "output_type": "stream",
     "text": [
      "88\n"
     ]
    }
   ],
   "source": [
    "_gg_66 = 88\n",
    "print(_gg_66)"
   ]
  },
  {
   "cell_type": "code",
   "execution_count": 43,
   "id": "6e693834-89e4-4058-9871-b502e832e142",
   "metadata": {},
   "outputs": [
    {
     "name": "stdout",
     "output_type": "stream",
     "text": [
      "90\n"
     ]
    }
   ],
   "source": [
    "p_p = 90\n",
    "print(p_p)"
   ]
  },
  {
   "cell_type": "code",
   "execution_count": 45,
   "id": "5da040e1-7be0-4a03-99a8-fdcff34047e2",
   "metadata": {},
   "outputs": [
    {
     "name": "stdout",
     "output_type": "stream",
     "text": [
      "77\n"
     ]
    }
   ],
   "source": [
    "th_9h = 77\n",
    "print(th_9h)"
   ]
  },
  {
   "cell_type": "code",
   "execution_count": 47,
   "id": "25400c5e-785a-4aff-a8a0-a4106ff0d15b",
   "metadata": {},
   "outputs": [
    {
     "name": "stdout",
     "output_type": "stream",
     "text": [
      "44\n"
     ]
    }
   ],
   "source": [
    "g7_ = 44\n",
    "print(g7_)"
   ]
  },
  {
   "cell_type": "code",
   "execution_count": 49,
   "id": "9c573426-1e86-4f88-9803-827dbeff4f8d",
   "metadata": {},
   "outputs": [
    {
     "name": "stdout",
     "output_type": "stream",
     "text": [
      "88\n"
     ]
    }
   ],
   "source": [
    "g6t6_yy67 = 88\n",
    "print(g6t6_yy67)"
   ]
  },
  {
   "cell_type": "code",
   "execution_count": 51,
   "id": "36f2f336-5f58-4ec4-a6b4-b4330985bba8",
   "metadata": {},
   "outputs": [
    {
     "name": "stdout",
     "output_type": "stream",
     "text": [
      "6\n"
     ]
    }
   ],
   "source": [
    "ddg_888 = 6\n",
    "print(ddg_888)"
   ]
  },
  {
   "cell_type": "code",
   "execution_count": 55,
   "id": "33995f58-6e71-43a0-be85-3a7d0c5befc4",
   "metadata": {},
   "outputs": [
    {
     "name": "stdout",
     "output_type": "stream",
     "text": [
      "68\n"
     ]
    }
   ],
   "source": [
    "g6789_7654 = 68\n",
    "print(g6789_7654)"
   ]
  },
  {
   "cell_type": "markdown",
   "id": "7bb0efa5-5047-4dd1-97c2-f06b7bd831b2",
   "metadata": {},
   "source": [
    "# invalid variables"
   ]
  },
  {
   "cell_type": "code",
   "execution_count": 58,
   "id": "21da7ceb-6ba8-46ff-b1a7-8bb6636c608f",
   "metadata": {},
   "outputs": [
    {
     "ename": "SyntaxError",
     "evalue": "cannot assign to literal here. Maybe you meant '==' instead of '='? (1198841597.py, line 2)",
     "output_type": "error",
     "traceback": [
      "\u001b[0;36m  Cell \u001b[0;32mIn[58], line 2\u001b[0;36m\u001b[0m\n\u001b[0;31m    5 = 6\u001b[0m\n\u001b[0m    ^\u001b[0m\n\u001b[0;31mSyntaxError\u001b[0m\u001b[0;31m:\u001b[0m cannot assign to literal here. Maybe you meant '==' instead of '='?\n"
     ]
    }
   ],
   "source": [
    "# invalid variables\n",
    "5 = 6\n",
    "print(5)"
   ]
  },
  {
   "cell_type": "code",
   "execution_count": 60,
   "id": "92eb64da-2c5e-417a-a159-3c0af43c08e6",
   "metadata": {},
   "outputs": [
    {
     "ename": "SyntaxError",
     "evalue": "invalid decimal literal (2286530431.py, line 1)",
     "output_type": "error",
     "traceback": [
      "\u001b[0;36m  Cell \u001b[0;32mIn[60], line 1\u001b[0;36m\u001b[0m\n\u001b[0;31m    5g = 99\u001b[0m\n\u001b[0m    ^\u001b[0m\n\u001b[0;31mSyntaxError\u001b[0m\u001b[0;31m:\u001b[0m invalid decimal literal\n"
     ]
    }
   ],
   "source": [
    "5g = 99\n",
    "print(5g)"
   ]
  },
  {
   "cell_type": "code",
   "execution_count": 62,
   "id": "1e39ed06-1dda-4c39-a8ed-eb00ff038277",
   "metadata": {},
   "outputs": [
    {
     "ename": "SyntaxError",
     "evalue": "invalid syntax (3744341541.py, line 2)",
     "output_type": "error",
     "traceback": [
      "\u001b[0;36m  Cell \u001b[0;32mIn[62], line 2\u001b[0;36m\u001b[0m\n\u001b[0;31m    print(!gg_9)\u001b[0m\n\u001b[0m          ^\u001b[0m\n\u001b[0;31mSyntaxError\u001b[0m\u001b[0;31m:\u001b[0m invalid syntax\n"
     ]
    }
   ],
   "source": [
    "!gg_9 = 00\n",
    "print(!gg_9)"
   ]
  },
  {
   "cell_type": "code",
   "execution_count": 64,
   "id": "e1cba3c6-6375-4335-90da-99e9d14ec396",
   "metadata": {},
   "outputs": [
    {
     "ename": "SyntaxError",
     "evalue": "invalid syntax. Maybe you meant '==' or ':=' instead of '='? (1827517113.py, line 1)",
     "output_type": "error",
     "traceback": [
      "\u001b[0;36m  Cell \u001b[0;32mIn[64], line 1\u001b[0;36m\u001b[0m\n\u001b[0;31m    @h9_09 = 88\u001b[0m\n\u001b[0m     ^\u001b[0m\n\u001b[0;31mSyntaxError\u001b[0m\u001b[0;31m:\u001b[0m invalid syntax. Maybe you meant '==' or ':=' instead of '='?\n"
     ]
    }
   ],
   "source": [
    "@h9_09 = 88\n",
    "print(@h9_09)"
   ]
  },
  {
   "cell_type": "code",
   "execution_count": 66,
   "id": "04095692-15a0-436c-841e-5ecd82190cdf",
   "metadata": {},
   "outputs": [
    {
     "ename": "SyntaxError",
     "evalue": "invalid syntax (4218371336.py, line 1)",
     "output_type": "error",
     "traceback": [
      "\u001b[0;36m  Cell \u001b[0;32mIn[66], line 1\u001b[0;36m\u001b[0m\n\u001b[0;31m    $yyg7_09 = 0\u001b[0m\n\u001b[0m    ^\u001b[0m\n\u001b[0;31mSyntaxError\u001b[0m\u001b[0;31m:\u001b[0m invalid syntax\n"
     ]
    }
   ],
   "source": [
    "$yyg7_09 = 0\n",
    "print($yyg7_09)"
   ]
  },
  {
   "cell_type": "code",
   "execution_count": 68,
   "id": "0cf0b2be-323f-4b73-b931-5d3e36af4ee7",
   "metadata": {},
   "outputs": [
    {
     "ename": "SyntaxError",
     "evalue": "invalid decimal literal (991095102.py, line 1)",
     "output_type": "error",
     "traceback": [
      "\u001b[0;36m  Cell \u001b[0;32mIn[68], line 1\u001b[0;36m\u001b[0m\n\u001b[0;31m    99uh$ = 8\u001b[0m\n\u001b[0m     ^\u001b[0m\n\u001b[0;31mSyntaxError\u001b[0m\u001b[0;31m:\u001b[0m invalid decimal literal\n"
     ]
    }
   ],
   "source": [
    "99uh$ = 8\n",
    "print(99uh$)"
   ]
  },
  {
   "cell_type": "code",
   "execution_count": 70,
   "id": "3ac9cc2d-10fd-46de-9e3b-1490681cf1d0",
   "metadata": {},
   "outputs": [
    {
     "ename": "SyntaxError",
     "evalue": "invalid syntax (4052787559.py, line 1)",
     "output_type": "error",
     "traceback": [
      "\u001b[0;36m  Cell \u001b[0;32mIn[70], line 1\u001b[0;36m\u001b[0m\n\u001b[0;31m    &%66 = 9\u001b[0m\n\u001b[0m    ^\u001b[0m\n\u001b[0;31mSyntaxError\u001b[0m\u001b[0;31m:\u001b[0m invalid syntax\n"
     ]
    }
   ],
   "source": [
    "&%66 = 9\n",
    "print(&%66)"
   ]
  },
  {
   "cell_type": "code",
   "execution_count": 72,
   "id": "32616c2f-dcfd-43cc-8aa0-d35c786857f6",
   "metadata": {},
   "outputs": [
    {
     "ename": "SyntaxError",
     "evalue": "invalid decimal literal (2743301620.py, line 1)",
     "output_type": "error",
     "traceback": [
      "\u001b[0;36m  Cell \u001b[0;32mIn[72], line 1\u001b[0;36m\u001b[0m\n\u001b[0;31m    8u_& = 88\u001b[0m\n\u001b[0m    ^\u001b[0m\n\u001b[0;31mSyntaxError\u001b[0m\u001b[0;31m:\u001b[0m invalid decimal literal\n"
     ]
    }
   ],
   "source": [
    "8u_& = 88\n",
    "print(8u_&)"
   ]
  },
  {
   "cell_type": "code",
   "execution_count": 74,
   "id": "a6929d9e-9b12-4e38-9c86-0177be68b841",
   "metadata": {},
   "outputs": [
    {
     "ename": "SyntaxError",
     "evalue": "invalid decimal literal (3356119434.py, line 1)",
     "output_type": "error",
     "traceback": [
      "\u001b[0;36m  Cell \u001b[0;32mIn[74], line 1\u001b[0;36m\u001b[0m\n\u001b[0;31m    _%^77h_990 = 987\u001b[0m\n\u001b[0m        ^\u001b[0m\n\u001b[0;31mSyntaxError\u001b[0m\u001b[0;31m:\u001b[0m invalid decimal literal\n"
     ]
    }
   ],
   "source": [
    "_%^77h_990 = 987\n",
    "print(_%^77h_990)"
   ]
  },
  {
   "cell_type": "code",
   "execution_count": 76,
   "id": "14f8bdfd-d530-40fa-a34b-24c3ea61f676",
   "metadata": {},
   "outputs": [
    {
     "ename": "SyntaxError",
     "evalue": "invalid decimal literal (944222319.py, line 1)",
     "output_type": "error",
     "traceback": [
      "\u001b[0;36m  Cell \u001b[0;32mIn[76], line 1\u001b[0;36m\u001b[0m\n\u001b[0;31m    5rt5 = 99\u001b[0m\n\u001b[0m    ^\u001b[0m\n\u001b[0;31mSyntaxError\u001b[0m\u001b[0;31m:\u001b[0m invalid decimal literal\n"
     ]
    }
   ],
   "source": [
    "5rt5 = 99\n",
    "print(5rt5)"
   ]
  },
  {
   "cell_type": "code",
   "execution_count": 78,
   "id": "25b97fa0-1085-4911-befd-590abfbc67f7",
   "metadata": {},
   "outputs": [
    {
     "ename": "SyntaxError",
     "evalue": "invalid syntax (2647120630.py, line 1)",
     "output_type": "error",
     "traceback": [
      "\u001b[0;36m  Cell \u001b[0;32mIn[78], line 1\u001b[0;36m\u001b[0m\n\u001b[0;31m    ghu9& = 9\u001b[0m\n\u001b[0m          ^\u001b[0m\n\u001b[0;31mSyntaxError\u001b[0m\u001b[0;31m:\u001b[0m invalid syntax\n"
     ]
    }
   ],
   "source": [
    "ghu9& = 9\n",
    "print(ghu9&)"
   ]
  },
  {
   "cell_type": "code",
   "execution_count": 80,
   "id": "97ce6461-2371-4cc9-bf23-39fd783303cf",
   "metadata": {},
   "outputs": [
    {
     "ename": "SyntaxError",
     "evalue": "invalid syntax (2829202469.py, line 1)",
     "output_type": "error",
     "traceback": [
      "\u001b[0;36m  Cell \u001b[0;32mIn[80], line 1\u001b[0;36m\u001b[0m\n\u001b[0;31m    :y6y = 9\u001b[0m\n\u001b[0m    ^\u001b[0m\n\u001b[0;31mSyntaxError\u001b[0m\u001b[0;31m:\u001b[0m invalid syntax\n"
     ]
    }
   ],
   "source": [
    ":y6y = 9\n",
    "print(:y6y)"
   ]
  },
  {
   "cell_type": "code",
   "execution_count": 82,
   "id": "3610b658-5734-4c5a-81b4-615b4fa95ed4",
   "metadata": {},
   "outputs": [
    {
     "ename": "SyntaxError",
     "evalue": "invalid syntax (2376610738.py, line 1)",
     "output_type": "error",
     "traceback": [
      "\u001b[0;36m  Cell \u001b[0;32mIn[82], line 1\u001b[0;36m\u001b[0m\n\u001b[0;31m    u(=, 88)\u001b[0m\n\u001b[0m      ^\u001b[0m\n\u001b[0;31mSyntaxError\u001b[0m\u001b[0;31m:\u001b[0m invalid syntax\n"
     ]
    }
   ],
   "source": [
    "/u = 88\n",
    "print(/u)"
   ]
  },
  {
   "cell_type": "code",
   "execution_count": 84,
   "id": "9311bc5c-d5db-4640-be0a-6c7faeaba6dd",
   "metadata": {},
   "outputs": [
    {
     "ename": "SyntaxError",
     "evalue": "cannot assign to literal (2367961855.py, line 1)",
     "output_type": "error",
     "traceback": [
      "\u001b[0;36m  Cell \u001b[0;32mIn[84], line 1\u001b[0;36m\u001b[0m\n\u001b[0;31m    *87 = 88\u001b[0m\n\u001b[0m     ^\u001b[0m\n\u001b[0;31mSyntaxError\u001b[0m\u001b[0;31m:\u001b[0m cannot assign to literal\n"
     ]
    }
   ],
   "source": [
    "*87 = 88\n",
    "print(*87)"
   ]
  },
  {
   "cell_type": "code",
   "execution_count": 86,
   "id": "94d3361b-176a-48fc-a6cd-3e3ef55ff4d0",
   "metadata": {},
   "outputs": [
    {
     "ename": "SyntaxError",
     "evalue": "invalid syntax (2160976847.py, line 1)",
     "output_type": "error",
     "traceback": [
      "\u001b[0;36m  Cell \u001b[0;32mIn[86], line 1\u001b[0;36m\u001b[0m\n\u001b[0;31m    * = 0\u001b[0m\n\u001b[0m      ^\u001b[0m\n\u001b[0;31mSyntaxError\u001b[0m\u001b[0;31m:\u001b[0m invalid syntax\n"
     ]
    }
   ],
   "source": [
    "* = 0\n",
    "print(*)"
   ]
  },
  {
   "cell_type": "code",
   "execution_count": null,
   "id": "8b9155c2-844f-46a0-ab7f-19f1fd8fe518",
   "metadata": {},
   "outputs": [],
   "source": []
  }
 ],
 "metadata": {
  "kernelspec": {
   "display_name": "Python 3 (ipykernel)",
   "language": "python",
   "name": "python3"
  },
  "language_info": {
   "codemirror_mode": {
    "name": "ipython",
    "version": 3
   },
   "file_extension": ".py",
   "mimetype": "text/x-python",
   "name": "python",
   "nbconvert_exporter": "python",
   "pygments_lexer": "ipython3",
   "version": "3.12.4"
  }
 },
 "nbformat": 4,
 "nbformat_minor": 5
}
