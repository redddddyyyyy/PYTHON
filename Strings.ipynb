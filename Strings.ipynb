{
 "cells": [
  {
   "cell_type": "markdown",
   "id": "c52f6f9e-3db4-44e0-91f0-89288e76ec46",
   "metadata": {},
   "source": [
    "# What is string"
   ]
  },
  {
   "cell_type": "markdown",
   "id": "f67c1b17-f9e5-4eba-9066-29e58fa298cb",
   "metadata": {},
   "source": [
    "Strings are one of the most commonly used data types in any programming language.\n",
    "\n",
    "It represents textual data and sequences of characters. In Python, strings are immutable and ordered. This is very important while implementing a function to operate a string. Fortunately, Python has rich in-built functions that manipulate strings."
   ]
  },
  {
   "cell_type": "markdown",
   "id": "4d7efe91-61c1-423f-80ec-0899668a41af",
   "metadata": {},
   "source": [
    "# Representation of string"
   ]
  },
  {
   "cell_type": "markdown",
   "id": "c04b1c89-038c-492f-8183-cf05f7f6ba69",
   "metadata": {},
   "source": [
    "String is usually wrote between double quotes or single quote."
   ]
  },
  {
   "cell_type": "code",
   "execution_count": 6,
   "id": "fe9e0ca0-8d7b-452b-bb68-66b88e37dc36",
   "metadata": {},
   "outputs": [
    {
     "name": "stdout",
     "output_type": "stream",
     "text": [
      "This is a laptop\n",
      "This is a book\n"
     ]
    }
   ],
   "source": [
    "string1 = \"This is a laptop\"\n",
    "string2 = 'This is a book'\n",
    "print(string1)\n",
    "print(string2)"
   ]
  },
  {
   "cell_type": "markdown",
   "id": "920a4191-e0d7-465f-a689-9e772ff32966",
   "metadata": {},
   "source": [
    "1.Multiline string"
   ]
  },
  {
   "cell_type": "code",
   "execution_count": 12,
   "id": "f2988ffc-c2b6-4326-b492-fca29e470676",
   "metadata": {},
   "outputs": [
    {
     "name": "stdout",
     "output_type": "stream",
     "text": [
      "This is a multiline string\n"
     ]
    }
   ],
   "source": [
    "multiline_string = \"\"\"This is a multiline string\"\"\"\n",
    "print(multiline_string)\n",
    "# Triple quotations are used for multiline string"
   ]
  },
  {
   "cell_type": "markdown",
   "id": "b100d336-dd56-4ed3-8ea7-03d7f4f99087",
   "metadata": {},
   "source": [
    "2.String conentration"
   ]
  },
  {
   "cell_type": "code",
   "execution_count": 17,
   "id": "0469f78f-0638-47ad-9cd7-737cca5e98a7",
   "metadata": {},
   "outputs": [
    {
     "name": "stdout",
     "output_type": "stream",
     "text": [
      "Rajeev reddy\n"
     ]
    }
   ],
   "source": [
    "first_string = \"Raj\"\n",
    "second_string = \"eev reddy\"\n",
    "combined_string = first_string + second_string\n",
    "print(combined_string)\n",
    "# we can use + to combine two separate stings"
   ]
  },
  {
   "cell_type": "markdown",
   "id": "c4028de2-4fd3-4638-b076-9353740697f1",
   "metadata": {},
   "source": [
    "3.Escape characters"
   ]
  },
  {
   "cell_type": "code",
   "execution_count": 36,
   "id": "2da36dc4-c3f0-420f-9858-a9940bd12eee",
   "metadata": {},
   "outputs": [
    {
     "name": "stdout",
     "output_type": "stream",
     "text": [
      "Luv 1\n",
      "xwc 2\n",
      "\tznc 3\n"
     ]
    }
   ],
   "source": [
    "string_escape = \"Luv 1\\nxwc 2\\n\\tznc 3\"\n",
    "print(string_escape)\n",
    "# \\n is used for new line and \\t is used for new tab"
   ]
  },
  {
   "cell_type": "markdown",
   "id": "62152369-406e-4741-9081-33363c1b784f",
   "metadata": {},
   "source": [
    "# String operators"
   ]
  },
  {
   "cell_type": "markdown",
   "id": "fb1efb04-391f-41db-8b51-2728a2273e8a",
   "metadata": {},
   "source": [
    "1. concentration (+)\n",
    "   5 times in a loop"
   ]
  },
  {
   "cell_type": "code",
   "execution_count": 86,
   "id": "47d12bca-b5c0-41b3-b3bf-1ec73cddfe14",
   "metadata": {},
   "outputs": [
    {
     "name": "stdout",
     "output_type": "stream",
     "text": [
      " g real  g real  g real  g real  g real \n"
     ]
    }
   ],
   "source": [
    "string = \" g real \"\n",
    "result = \"\"\n",
    "for i in range(5):\n",
    "    result += string + \"\"\n",
    "print(result)"
   ]
  },
  {
   "cell_type": "code",
   "execution_count": 57,
   "id": "e606d848-8a42-4f06-a68a-da28f2218f66",
   "metadata": {},
   "outputs": [
    {
     "name": "stdout",
     "output_type": "stream",
     "text": [
      "count: 0\n",
      "count: 1\n",
      "count: 2\n",
      "count: 3\n",
      "count: 4\n"
     ]
    }
   ],
   "source": [
    "for i in range (5):\n",
    "    result = \"count: \" + str(i)\n",
    "    print(result)"
   ]
  },
  {
   "cell_type": "code",
   "execution_count": 71,
   "id": "bed99730-37d2-4f46-b657-a66b7b90ddce",
   "metadata": {},
   "outputs": [
    {
     "name": "stdout",
     "output_type": "stream",
     "text": [
      "sun rises in the west? No \n",
      "sun rises in the west? No \n",
      "sun rises in the west? No \n",
      "sun rises in the west? No \n",
      "sun rises in the west? No \n"
     ]
    }
   ],
   "source": [
    "string = \"sun rises in the west?\"\n",
    "for i in range(5):\n",
    "    result = string + \" No \"\n",
    "    print(result)\n"
   ]
  },
  {
   "cell_type": "code",
   "execution_count": 77,
   "id": "2388ab95-ea79-4a11-8c2d-17c92c073942",
   "metadata": {},
   "outputs": [
    {
     "name": "stdout",
     "output_type": "stream",
     "text": [
      "laptop is out of charge\n",
      "laptop is out of charge\n",
      "laptop is out of charge\n",
      "laptop is out of charge\n",
      "laptop is out of charge\n"
     ]
    }
   ],
   "source": [
    "str_1 = \"laptop\"\n",
    "str_2 = \"is out of charge\"\n",
    "for i in range (5):\n",
    "    comb = str_1 + \" \" + str_2\n",
    "    print(comb)"
   ]
  },
  {
   "cell_type": "code",
   "execution_count": 79,
   "id": "e3b3727c-b168-49dd-ad9a-0eedeadf76ca",
   "metadata": {},
   "outputs": [
    {
     "name": "stdout",
     "output_type": "stream",
     "text": [
      "Number: 0\n",
      "Number: 1\n",
      "Number: 2\n",
      "Number: 3\n",
      "Number: 4\n"
     ]
    }
   ],
   "source": [
    "for i in range(5):\n",
    "    combined_string = \"Number: \" + str(i)\n",
    "    print(combined_string)"
   ]
  },
  {
   "cell_type": "markdown",
   "id": "beaff1bc-f99b-4ac8-81fc-88ab6836aaab",
   "metadata": {},
   "source": [
    "2.Representation operator(*)"
   ]
  },
  {
   "cell_type": "code",
   "execution_count": 84,
   "id": "37252e83-72a9-4b74-b1c8-a186250ff50d",
   "metadata": {},
   "outputs": [
    {
     "name": "stdout",
     "output_type": "stream",
     "text": [
      " hello  hello  hello  hello  hello \n"
     ]
    }
   ],
   "source": [
    "str_1 = \" hello \"\n",
    "res = str_1 * 5\n",
    "print(res)"
   ]
  },
  {
   "cell_type": "code",
   "execution_count": 90,
   "id": "da27d5e8-1cae-4bdf-a3d8-61ae23a20a06",
   "metadata": {},
   "outputs": [
    {
     "name": "stdout",
     "output_type": "stream",
     "text": [
      " Did u watch the race? \n",
      " Did u watch the race?  Did u watch the race? \n",
      " Did u watch the race?  Did u watch the race?  Did u watch the race? \n",
      " Did u watch the race?  Did u watch the race?  Did u watch the race?  Did u watch the race? \n",
      " Did u watch the race?  Did u watch the race?  Did u watch the race?  Did u watch the race?  Did u watch the race? \n"
     ]
    }
   ],
   "source": [
    "str_1 = \" Did u watch the race? \"\n",
    "for i in range(5):\n",
    "    print(str_1 * (i+1))"
   ]
  },
  {
   "cell_type": "code",
   "execution_count": 92,
   "id": "6ff6ea1b-86ec-4ac9-81c7-fa98b46bb480",
   "metadata": {},
   "outputs": [
    {
     "name": "stdout",
     "output_type": "stream",
     "text": [
      " $ \n",
      " $  $ \n",
      " $  $  $ \n",
      " $  $  $  $ \n",
      " $  $  $  $  $ \n"
     ]
    }
   ],
   "source": [
    "char = \" $ \"\n",
    "for i in range(5):\n",
    "    print(char * (i+1))"
   ]
  },
  {
   "cell_type": "code",
   "execution_count": 94,
   "id": "198ddc23-8845-49eb-90e1-75e950ecbb9e",
   "metadata": {},
   "outputs": [
    {
     "name": "stdout",
     "output_type": "stream",
     "text": [
      " 69 \n",
      " 69  69 \n",
      " 69  69  69 \n",
      " 69  69  69  69 \n",
      " 69  69  69  69  69 \n"
     ]
    }
   ],
   "source": [
    "num = \" 69 \"\n",
    "for i in range(5):\n",
    "    print(num * (i+1))"
   ]
  },
  {
   "cell_type": "code",
   "execution_count": 96,
   "id": "47c98650-7828-4cc6-b518-5721cd45b358",
   "metadata": {},
   "outputs": [
    {
     "name": "stdout",
     "output_type": "stream",
     "text": [
      "1:  SHuiii \n",
      "2:  SHuiii  SHuiii \n",
      "3:  SHuiii  SHuiii  SHuiii \n",
      "4:  SHuiii  SHuiii  SHuiii  SHuiii \n",
      "5:  SHuiii  SHuiii  SHuiii  SHuiii  SHuiii \n"
     ]
    }
   ],
   "source": [
    "str = \" SHuiii \"\n",
    "for i in range(5):\n",
    "    print(f\"{i+1}: {str * (i+1)}\")"
   ]
  },
  {
   "cell_type": "markdown",
   "id": "79d4bab5-c46c-43a9-b291-b8b9782b75e5",
   "metadata": {},
   "source": [
    "# Create a sting using paragraph access index\n"
   ]
  },
  {
   "cell_type": "code",
   "execution_count": 105,
   "id": "24f085c2-8c17-4fed-b56c-7d1d7f66052e",
   "metadata": {},
   "outputs": [
    {
     "name": "stdout",
     "output_type": "stream",
     "text": [
      "e\n",
      "t\n",
      "l\n",
      ".\n",
      "l\n",
      "p\n",
      "y\n",
      "s\n",
      " \n",
      "d\n"
     ]
    }
   ],
   "source": [
    "str = \"\"\" Formula 1 (F1) is the highest class of international motorsport, governed by the Fédération Internationale de l'Automobile (FIA). It is known for its cutting-edge technology, extreme speeds, and global fanbase. The cars are single-seater, open-wheel machines, capable of reaching speeds over 200 mph, powered by highly advanced hybrid engines. Each season consists of a series of races, known as Grands Prix, held on diverse circuits worldwide, from traditional tracks like Monza and Silverstone to street circuits like Monaco and Singapore.\n",
    "\n",
    "Teams such as Mercedes, Ferrari, Red Bull, and McLaren compete at the pinnacle of automotive engineering, with each car designed to optimize aerodynamics, downforce, and power. The sport not only tests driver skill but also the strategic prowess of the teams, with factors like tire management, pit stops, and weather conditions playing a crucial role. The drivers, among them legends like Lewis Hamilton, Michael Schumacher, and Ayrton Senna, are celebrated for their exceptional reflexes, bravery, and racecraft.\n",
    "\n",
    "Points are awarded based on finishing positions in each race, and both drivers and constructors vie for the World Championship titles. F1’s allure comes from its combination of technological innovation, intense competition, and the glamour associated with its global venues, making it a multi-billion-dollar sport with a passionate worldwide following. \"\"\"\n",
    "\n",
    "print(str[21])  \n",
    "print(str[47])  \n",
    "print(str[105]) \n",
    "print(str[129])  \n",
    "print(str[201])  \n",
    "print(str[241])  \n",
    "print(str[311])  \n",
    "print(str[395])  \n",
    "print(str[409])  \n",
    "print(str[418]) "
   ]
  },
  {
   "cell_type": "markdown",
   "id": "97632299-249e-459a-8ac2-01ba52073074",
   "metadata": {},
   "source": [
    "# Slicing operators"
   ]
  },
  {
   "cell_type": "code",
   "execution_count": 180,
   "id": "9f01020c-52a8-4f33-8505-565e3edac6f6",
   "metadata": {},
   "outputs": [
    {
     "name": "stdout",
     "output_type": "stream",
     "text": [
      "ld b\n",
      "internat\n",
      "ing positions\n",
      "s, \n",
      "automotive \n"
     ]
    }
   ],
   "source": [
    "#basic slicing\n",
    "str = \"old book\"\n",
    "print(str[1:5])\n",
    "\n",
    "str = \"international motorsport\"\n",
    "print(str[:8])\n",
    "\n",
    "str = \"finishing positions\"\n",
    "print(str[6:])\n",
    "\n",
    "str = \"Mercedes, Ferrari, Red Bull\"\n",
    "print(str[7:10])\n",
    "\n",
    "str = \"automotive engineering\"\n",
    "print(str[:11])"
   ]
  },
  {
   "cell_type": "code",
   "execution_count": 184,
   "id": "7ad41698-e98a-460d-98ab-fa1b6fa2b94e",
   "metadata": {},
   "outputs": [
    {
     "name": "stdout",
     "output_type": "stream",
     "text": [
      "x\n",
      "r r\n",
      "g positions\n",
      "BdR,rre \n",
      "automotive enginee\n"
     ]
    }
   ],
   "source": [
    "# step slicing\n",
    "str = \"extreme speeds\"\n",
    "print(str[1:2:3])\n",
    "\n",
    "str = \"international motorsport\"\n",
    "print(str[4::9])\n",
    "\n",
    "str = \"finishing positions\"\n",
    "print(str[8::])\n",
    "\n",
    "str = \"Mercedes, Ferrari, Red Bull\"\n",
    "print(str[-4:7:-2])\n",
    "\n",
    "str = \"automotive engineering\"\n",
    "print(str[0:-4:1])"
   ]
  },
  {
   "cell_type": "code",
   "execution_count": 186,
   "id": "9502634e-b98b-4fac-b66b-ad2523575110",
   "metadata": {},
   "outputs": [
    {
     "name": "stdout",
     "output_type": "stream",
     "text": [
      "s\n",
      "al moto\n",
      "ositions\n",
      "Bd\n",
      "rin\n"
     ]
    }
   ],
   "source": [
    "# negative index\n",
    "str = \"extreme speeds\"\n",
    "print(str[-1:])\n",
    "\n",
    "str = \"international motorsport\"\n",
    "print(str[-13:-6])\n",
    "\n",
    "str = \"finishing positions\"\n",
    "print(str[-8::])\n",
    "\n",
    "str = \"Mercedes, Ferrari, Red Bull\"\n",
    "print(str[-4:-7:-2])\n",
    "\n",
    "str = \"automotive engineering\"\n",
    "print(str[-4:-1])"
   ]
  },
  {
   "cell_type": "code",
   "execution_count": 178,
   "id": "94b03af6-5d1e-470f-94cc-609e3a430e7c",
   "metadata": {},
   "outputs": [
    {
     "name": "stdout",
     "output_type": "stream",
     "text": [
      "b\n",
      "t\n",
      "ions\n",
      "s\n",
      "utomotive \n"
     ]
    }
   ],
   "source": [
    "# combining slicing\n",
    "str = \"old book\"\n",
    "print(str[1:5][-1::])\n",
    "\n",
    "str = \"international motorsport\"\n",
    "print(str[:8][-1:-2:-3])\n",
    "\n",
    "str = \"finishing positions\"\n",
    "print(str[6:][9:])\n",
    "\n",
    "str = \"Mercedes, Ferrari, Red Bull\"\n",
    "print(str[7:10][0:1])\n",
    "\n",
    "str = \"automotive engineering\"\n",
    "print(str[:11][1:])"
   ]
  },
  {
   "cell_type": "markdown",
   "id": "3cd1ef3d-4d33-4f0d-ba53-6011a6800fc3",
   "metadata": {},
   "source": [
    "# String format"
   ]
  },
  {
   "cell_type": "code",
   "execution_count": 216,
   "id": "42e49a96-372e-4aad-b5b3-0b74135bf186",
   "metadata": {},
   "outputs": [
    {
     "name": "stdout",
     "output_type": "stream",
     "text": [
      "Model: pagani utopia , year: 2024\n",
      "type: Hybrid , top speed: 344.50\n",
      "engine: v12 , fuel: 80.60%\n"
     ]
    }
   ],
   "source": [
    "# String formating using \"%\"\n",
    "Model = \"pagani utopia\"\n",
    "year = 2024\n",
    "format = \"Model: %s , year: %d\"%(Model,year)\n",
    "print(format)\n",
    "\n",
    "type = \"Hybrid\"\n",
    "top_speed = 344.5\n",
    "format = \"type: %s , top speed: %.2f\"%(type,top_speed)\n",
    "print(format)\n",
    "\n",
    "engine = \"v12\"\n",
    "fuel = 80.6\n",
    "format = \"engine: %s , fuel: %.2f%%\"%(engine,fuel)\n",
    "print(format)\n"
   ]
  },
  {
   "cell_type": "code",
   "execution_count": 262,
   "id": "2e9f3ebe-560d-46cb-a25b-cacf74a31d56",
   "metadata": {},
   "outputs": [
    {
     "name": "stdout",
     "output_type": "stream",
     "text": [
      "company: Toyota, model: Hulex\n",
      "type: Diesel, year: 2023\n",
      "engine: v6 4.0L,fuel_efficency: 20.4 KMPL,drive: 4WD\n"
     ]
    }
   ],
   "source": [
    "# str.format() \n",
    "company = \"Toyota\"\n",
    "model = \"Hulex\"\n",
    "format = \"company: {}, model: {}\".format(company,model)\n",
    "print(format)\n",
    "\n",
    "type = \"Diesel\"\n",
    "year = \"2023\"\n",
    "format = \"type: {}, year: {}\".format(type,year)\n",
    "print(format)\n",
    "\n",
    "engine = \"v6\"\n",
    "fuel_efficency = \"20.4\"\n",
    "drive = \"4WD\"\n",
    "format = \"engine: {} 4.0L,fuel_efficency: {} KMPL,drive: {}\".format(engine,fuel_efficency,drive)\n",
    "print(format)"
   ]
  },
  {
   "cell_type": "code",
   "execution_count": 260,
   "id": "544c09d3-1863-4332-8e25-c26e3ec3f882",
   "metadata": {},
   "outputs": [
    {
     "name": "stdout",
     "output_type": "stream",
     "text": [
      "Company name: Toyota ,Model name: Hulex\n",
      "Fuel type: Diesel, Manufacturing year: 2023\n",
      "Engine type: v6, Fuel efficiency: 20.4, Drive: 4WD\n"
     ]
    }
   ],
   "source": [
    "# f-string\n",
    "company = \"Toyota\"\n",
    "model = \"Hulex\"\n",
    "format = f\"Company name: {company} ,Model name: {model}\"\n",
    "print(format)\n",
    "\n",
    "type = \"Diesel\"\n",
    "year = \"2023\"\n",
    "format = f\"Fuel type: {type}, Manufacturing year: {year}\"\n",
    "print(format)\n",
    "\n",
    "engine = \"v6\"\n",
    "fuel_efficiency = \"20.4\"\n",
    "drive = \"4WD\"\n",
    "format = f\"Engine type: {engine}, Fuel efficiency: {fuel_efficiency}, Drive: {drive}\"\n",
    "print(format)"
   ]
  },
  {
   "cell_type": "markdown",
   "id": "8efd4902-ccc1-4322-a5cd-45bc2a767b62",
   "metadata": {},
   "source": [
    "# String methods"
   ]
  },
  {
   "cell_type": "code",
   "execution_count": 265,
   "id": "7d32bcc4-6903-453e-95e7-cfd0b435069a",
   "metadata": {},
   "outputs": [
    {
     "name": "stdout",
     "output_type": "stream",
     "text": [
      "Uppercase: LAZY\n",
      "Lowercase: bowl\n",
      "Capitalized: Hyderabad city\n",
      "Title: Python And Datascience\n",
      "Stripped: 'this is a game'\n",
      "Replaced: global pandamic\n",
      "Split: ['cars', 'guns', 'and money']\n",
      "Joined: today is good\n",
      "Find: 10\n",
      "Formatted: The root version is 2\n",
      "Starts with 'machine': True\n",
      "Ends with 'ics': True\n"
     ]
    }
   ],
   "source": [
    "# 1. str.upper()\n",
    "text = \"lazy\"\n",
    "uppercase_text = text.upper()\n",
    "print(\"Uppercase:\", uppercase_text)  \n",
    "\n",
    "# 2. str.lower()\n",
    "text = \"BOWL\"\n",
    "lowercase_text = text.lower()\n",
    "print(\"Lowercase:\", lowercase_text) \n",
    "\n",
    "# 3. str.capitalize()\n",
    "text = \"hyderabad city\"\n",
    "capitalized_text = text.capitalize()\n",
    "print(\"Capitalized:\", capitalized_text) \n",
    "\n",
    "# 4. str.title()\n",
    "text = \"python and datascience\"\n",
    "title_text = text.title()\n",
    "print(\"Title:\", title_text)  \n",
    "\n",
    "# 5. str.strip()\n",
    "text = \"  this is a game  \"\n",
    "stripped_text = text.strip()\n",
    "print(\"Stripped:\", f\"'{stripped_text}'\")  \n",
    "\n",
    "# 6. str.replace(old, new)\n",
    "text = \"global crisis\"\n",
    "replaced_text = text.replace(\"crisis\", \"pandamic\")\n",
    "print(\"Replaced:\", replaced_text)  \n",
    "\n",
    "# 7. str.split(separator)\n",
    "text = \"cars, guns, and money\"\n",
    "split_text = text.split(\", \")\n",
    "print(\"Split:\", split_text)  \n",
    "\n",
    "# 8. str.join(iterable)\n",
    "words = [\"today\", \"is\", \"good\"]\n",
    "joined_text = \" \".join(words)\n",
    "print(\"Joined:\", joined_text)  \n",
    "\n",
    "# 9. str.find(substring)\n",
    "text = \"Mercedese benz\"\n",
    "index = text.find(\"benz\")\n",
    "print(\"Find:\", index) \n",
    "\n",
    "# 10. str.format()\n",
    "name = \"root\"\n",
    "version = 2\n",
    "formatted_string = \"The {} version is {}\".format(name, version)\n",
    "print(\"Formatted:\", formatted_string)  \n",
    "\n",
    "# 11. str.startswith(prefix)\n",
    "text = \"digital airfryer\"\n",
    "starts_with = text.startswith(\"digital\")\n",
    "print(\"Starts with 'machine':\", starts_with) \n",
    "\n",
    "# 12. str.endswith(suffix)\n",
    "text = \"prohibition\"\n",
    "ends_with = text.endswith(\"tion\")\n",
    "print(\"Ends with 'ics':\", ends_with) "
   ]
  }
 ],
 "metadata": {
  "kernelspec": {
   "display_name": "Python 3 (ipykernel)",
   "language": "python",
   "name": "python3"
  },
  "language_info": {
   "codemirror_mode": {
    "name": "ipython",
    "version": 3
   },
   "file_extension": ".py",
   "mimetype": "text/x-python",
   "name": "python",
   "nbconvert_exporter": "python",
   "pygments_lexer": "ipython3",
   "version": "3.12.4"
  }
 },
 "nbformat": 4,
 "nbformat_minor": 5
}
