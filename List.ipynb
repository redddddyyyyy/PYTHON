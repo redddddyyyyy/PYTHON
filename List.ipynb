{
 "cells": [
  {
   "cell_type": "markdown",
   "id": "2793af4e-2ede-4a35-beb7-deafad69cf78",
   "metadata": {},
   "source": [
    "# LIST"
   ]
  },
  {
   "cell_type": "markdown",
   "id": "442a8200-7185-4b48-b618-e52a64c5eccb",
   "metadata": {},
   "source": [
    "A list is a type of sequence of data points such as floats, integers, or strings. Therefore, understanding lists relates to your ability to organize data – a crucial skill in today’s labor market."
   ]
  },
  {
   "cell_type": "markdown",
   "id": "0fcc0ad9-be1a-4c07-801c-621c02e24686",
   "metadata": {},
   "source": [
    "# Key characteristics"
   ]
  },
  {
   "cell_type": "markdown",
   "id": "601ad4d6-100d-44cb-b8d9-a953f2e2c82b",
   "metadata": {},
   "source": [
    "Lists maintain the order in which elements are added. This means you can access elements by their position within the list.\n"
   ]
  },
  {
   "cell_type": "markdown",
   "id": "087cf063-8d1c-4533-83a4-4c58f6fabf5a",
   "metadata": {},
   "source": [
    "\n",
    "Lists can hold a mix of different data types. For example, you can have a list that contains strings, integers, Boolean, and even other lists.\n"
   ]
  },
  {
   "cell_type": "markdown",
   "id": "01e0caaf-ec85-4431-b5ce-75e46f541bd4",
   "metadata": {},
   "source": [
    "\n",
    "Lists are mutable, which means you can change their elements, size, and structure during program execution."
   ]
  },
  {
   "cell_type": "markdown",
   "id": "532b2cab-c59d-4f4a-974d-ce3ce45975ec",
   "metadata": {},
   "source": [
    "# Indixing\n",
    "\n"
   ]
  },
  {
   "cell_type": "markdown",
   "id": "520b7fe0-4e9a-4707-a306-4f7d4fee34e8",
   "metadata": {},
   "source": [
    "In Python, the index() method is a powerful tool that allows you to find the position or index of a specific element in a list or string. This method simplifies the process of searching for an element, eliminating the need for manual loops or conditional statements. In this article, we will explore the syntax, parameters, and various examples of using the index() method in Python"
   ]
  },
  {
   "cell_type": "code",
   "execution_count": 65,
   "id": "d3998c88-b9d1-48f6-8a8a-ec49864e2c69",
   "metadata": {},
   "outputs": [
    {
     "name": "stdout",
     "output_type": "stream",
     "text": [
      "41\n"
     ]
    }
   ],
   "source": [
    "my_list = [11,21,31,41,51]\n",
    "print(my_list[3])"
   ]
  },
  {
   "cell_type": "markdown",
   "id": "d66b356f-8c46-49d3-9aab-ceccbc1438ce",
   "metadata": {},
   "source": [
    "# slicing"
   ]
  },
  {
   "cell_type": "markdown",
   "id": "f997886d-2a43-4778-babf-aa8a675daa9d",
   "metadata": {},
   "source": [
    "Slicing in Python is a feature that enables accessing parts of sequences like strings, tuples, and lists. You can also use them to modify or delete the items of mutable sequences such as lists. Slices can also be applied on third-party objects like NumPy arrays, as well as Pandas series and data frames"
   ]
  },
  {
   "cell_type": "code",
   "execution_count": 17,
   "id": "18e979cc-52fb-4b2f-b03f-f6696577cb65",
   "metadata": {},
   "outputs": [
    {
     "name": "stdout",
     "output_type": "stream",
     "text": [
      "[11, 21, 31]\n"
     ]
    }
   ],
   "source": [
    "my_list = [11,21,31,41,51]\n",
    "print(my_list[0:3])"
   ]
  },
  {
   "cell_type": "markdown",
   "id": "aa4b14d8-aa48-4724-8e7b-42f5ce1e130d",
   "metadata": {},
   "source": [
    "# Common operation:"
   ]
  },
  {
   "cell_type": "markdown",
   "id": "10ad796c-59a5-405f-a3f6-54e4cb584822",
   "metadata": {},
   "source": [
    "Adding elements\n",
    "\n",
    "Removing elements\n",
    "\n",
    "Modifying elements\n",
    "\n",
    "Other operations (e.g., length, sorting, reversing) "
   ]
  },
  {
   "cell_type": "markdown",
   "id": "ceb18e59-2bc0-4d3a-880f-857c908a4fa1",
   "metadata": {},
   "source": [
    "1.Adding Elements"
   ]
  },
  {
   "cell_type": "code",
   "execution_count": 25,
   "id": "2ce17aa9-6ac7-47ab-b63b-9abc98b4c14b",
   "metadata": {},
   "outputs": [
    {
     "name": "stdout",
     "output_type": "stream",
     "text": [
      "[1, 2, 3, 4, 5, 6]\n"
     ]
    }
   ],
   "source": [
    "my_list = [1, 2, 3, 4, 5]\n",
    "my_list.append(6)\n",
    "print(my_list) "
   ]
  },
  {
   "cell_type": "code",
   "execution_count": 33,
   "id": "3ff53b99-5c7c-4d82-b283-198c1deabdce",
   "metadata": {},
   "outputs": [
    {
     "name": "stdout",
     "output_type": "stream",
     "text": [
      "[1, 2, 3, 4, 17, 5]\n"
     ]
    }
   ],
   "source": [
    "my_list = [1, 2, 3, 4, 5]\n",
    "my_list.insert(4, 17)\n",
    "print(my_list)  "
   ]
  },
  {
   "cell_type": "code",
   "execution_count": 35,
   "id": "c3b7ee10-85d0-48ee-b2bc-62f20ee12936",
   "metadata": {},
   "outputs": [
    {
     "name": "stdout",
     "output_type": "stream",
     "text": [
      "[1, 2, 3, 2, 8, 6]\n"
     ]
    }
   ],
   "source": [
    "my_list = [1, 2, 3, 2, 6, 8, 6]\n",
    "my_list.remove(6)\n",
    "print(my_list)"
   ]
  },
  {
   "cell_type": "code",
   "execution_count": 39,
   "id": "55cef163-ddb4-4831-bfc8-b1fdcf2d559f",
   "metadata": {},
   "outputs": [
    {
     "name": "stdout",
     "output_type": "stream",
     "text": [
      "[1, 2, 3, 4, 6]\n"
     ]
    }
   ],
   "source": [
    "my_list = [1, 2, 3, 4, 7]\n",
    "my_list[4] = 6\n",
    "print(my_list)  "
   ]
  },
  {
   "cell_type": "code",
   "execution_count": 43,
   "id": "39eb6dfe-69be-4bec-8e6e-9aa19afb75b0",
   "metadata": {},
   "outputs": [
    {
     "name": "stdout",
     "output_type": "stream",
     "text": [
      "4\n"
     ]
    }
   ],
   "source": [
    "my_list = [1, 2, 3, 4]\n",
    "print(len(my_list))"
   ]
  },
  {
   "cell_type": "code",
   "execution_count": 47,
   "id": "066e8c40-ea84-4fb8-b3bc-84ef9b30e876",
   "metadata": {},
   "outputs": [
    {
     "name": "stdout",
     "output_type": "stream",
     "text": [
      "[1, 2, 3, 4, 5, 6]\n"
     ]
    }
   ],
   "source": [
    "my_list = [3, 1, 2, 4, 6, 5]\n",
    "my_list.sort()\n",
    "print(my_list)"
   ]
  },
  {
   "cell_type": "code",
   "execution_count": 49,
   "id": "2b32916f-21b0-4bf4-a4ec-677f3580abc2",
   "metadata": {},
   "outputs": [
    {
     "name": "stdout",
     "output_type": "stream",
     "text": [
      "[1, 2, 3, 4]\n"
     ]
    }
   ],
   "source": [
    "my_list = [4, 3, 2, 1]\n",
    "my_list.reverse()\n",
    "print(my_list) "
   ]
  },
  {
   "cell_type": "code",
   "execution_count": 53,
   "id": "012c5bba-5a63-4289-8b89-1030ef9ac1f5",
   "metadata": {},
   "outputs": [
    {
     "name": "stdout",
     "output_type": "stream",
     "text": [
      "2\n"
     ]
    }
   ],
   "source": [
    "my_list = [1, 2, 3]\n",
    "index = my_list.index(3)\n",
    "print(index)"
   ]
  },
  {
   "cell_type": "markdown",
   "id": "4c4e6f0b-81db-486a-b09d-7e48b967d684",
   "metadata": {},
   "source": [
    "# Concatenation"
   ]
  },
  {
   "cell_type": "markdown",
   "id": "85b5fe1f-142e-4fe5-8427-9e9581684fc3",
   "metadata": {},
   "source": [
    "Concatenation involves joining two or more lists together to create a single list. This can be achieved using the + operator or the extend() method."
   ]
  },
  {
   "cell_type": "code",
   "execution_count": 59,
   "id": "e708f6d8-5fe4-4492-a3a2-3d935774843e",
   "metadata": {},
   "outputs": [
    {
     "name": "stdout",
     "output_type": "stream",
     "text": [
      "[1, 2, 3, 4, 4, 5, 6, 7]\n"
     ]
    }
   ],
   "source": [
    "list1 = [1, 2, 3, 4]\n",
    "list2 = [4, 5, 6, 7]\n",
    "result = list1 + list2\n",
    "print(result)"
   ]
  },
  {
   "cell_type": "code",
   "execution_count": 61,
   "id": "be0ec50c-14ee-43d5-a30f-71ed7ea507b2",
   "metadata": {},
   "outputs": [
    {
     "name": "stdout",
     "output_type": "stream",
     "text": [
      "[1, 2, 7, 4, 5, 8]\n"
     ]
    }
   ],
   "source": [
    "list1 = [1, 2]\n",
    "list2 = [7, 4]\n",
    "list3 = [5, 8]\n",
    "result = list1 + list2 + list3\n",
    "print(result) "
   ]
  },
  {
   "cell_type": "code",
   "execution_count": 63,
   "id": "8dc86ca9-fa07-4f08-96be-a938ff1538b4",
   "metadata": {},
   "outputs": [
    {
     "name": "stdout",
     "output_type": "stream",
     "text": [
      "[1, 2, 3, 7, 6]\n"
     ]
    }
   ],
   "source": [
    "list1 = [1, 2, 3]\n",
    "list2 = [7, 6]\n",
    "list1.extend(list2)\n",
    "print(list1) "
   ]
  },
  {
   "cell_type": "code",
   "execution_count": 73,
   "id": "35eb80cb-2ee8-43ac-9a93-edb4dd26793b",
   "metadata": {},
   "outputs": [
    {
     "name": "stdout",
     "output_type": "stream",
     "text": [
      "[1, 2, 3, 4, 5, 6]\n"
     ]
    }
   ],
   "source": [
    "list1 = [1, 2]\n",
    "list2 = [3, 4, 5, 6]\n",
    "result = list1 + list2\n",
    "print(result)"
   ]
  },
  {
   "cell_type": "code",
   "execution_count": 75,
   "id": "a0cda72d-25b8-4f44-b15d-812062fde15e",
   "metadata": {},
   "outputs": [
    {
     "name": "stdout",
     "output_type": "stream",
     "text": [
      "['Order A', 'Order B', 'Order C', 'Order D']\n"
     ]
    }
   ],
   "source": [
    "orders_day1 = [\"Order A\", \"Order B\"]\n",
    "orders_day2 = [\"Order C\", \"Order D\"]\n",
    "all_orders = orders_day1 + orders_day2\n",
    "print(all_orders)"
   ]
  },
  {
   "cell_type": "markdown",
   "id": "5003f4a7-7103-486a-a9a9-61ff87646b1b",
   "metadata": {},
   "source": [
    "# Repetition"
   ]
  },
  {
   "cell_type": "markdown",
   "id": "c20360eb-2a18-41b0-b293-317346cb8d33",
   "metadata": {},
   "source": [
    "Repetition involves repeating the elements of a list a specified number of times. This can be achieved using the * operator."
   ]
  },
  {
   "cell_type": "code",
   "execution_count": 79,
   "id": "206e78f0-c142-49b3-b2d9-34003b7a5d72",
   "metadata": {},
   "outputs": [
    {
     "name": "stdout",
     "output_type": "stream",
     "text": [
      "['gun', 'bang', 'gun', 'bang', 'gun', 'bang', 'gun', 'bang', 'gun', 'bang']\n"
     ]
    }
   ],
   "source": [
    "str = [\"gun\",\"bang\"]\n",
    "rep = str*5\n",
    "print(rep)"
   ]
  },
  {
   "cell_type": "code",
   "execution_count": 81,
   "id": "9249e375-bca6-40c7-9537-24c527432775",
   "metadata": {},
   "outputs": [
    {
     "name": "stdout",
     "output_type": "stream",
     "text": [
      "['This is a code', 'This is a code', 'This is a code', 'This is a code', 'This is a code', 'This is a code', 'This is a code', 'This is a code']\n"
     ]
    }
   ],
   "source": [
    "str = [\"This is a code\"]\n",
    "rep = str*8\n",
    "print(rep)"
   ]
  },
  {
   "cell_type": "code",
   "execution_count": 83,
   "id": "a15b6731-bfd3-4a14-a649-dfd0a846c8e3",
   "metadata": {},
   "outputs": [
    {
     "name": "stdout",
     "output_type": "stream",
     "text": [
      "['Todays temperature is 35 degree', 'Todays temperature is 35 degree', 'Todays temperature is 35 degree', 'Todays temperature is 35 degree', 'Todays temperature is 35 degree', 'Todays temperature is 35 degree', 'Todays temperature is 35 degree', 'Todays temperature is 35 degree', 'Todays temperature is 35 degree', 'Todays temperature is 35 degree', 'Todays temperature is 35 degree', 'Todays temperature is 35 degree']\n"
     ]
    }
   ],
   "source": [
    "str = [\"Todays temperature is 35 degree\"]\n",
    "rep = str*12\n",
    "print(rep)"
   ]
  },
  {
   "cell_type": "code",
   "execution_count": null,
   "id": "ebddc67d-9eba-407f-a203-823acdcd2219",
   "metadata": {},
   "outputs": [],
   "source": []
  }
 ],
 "metadata": {
  "kernelspec": {
   "display_name": "Python 3 (ipykernel)",
   "language": "python",
   "name": "python3"
  },
  "language_info": {
   "codemirror_mode": {
    "name": "ipython",
    "version": 3
   },
   "file_extension": ".py",
   "mimetype": "text/x-python",
   "name": "python",
   "nbconvert_exporter": "python",
   "pygments_lexer": "ipython3",
   "version": "3.12.4"
  }
 },
 "nbformat": 4,
 "nbformat_minor": 5
}
