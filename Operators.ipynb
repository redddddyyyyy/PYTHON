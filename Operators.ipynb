{
 "cells": [
  {
   "cell_type": "markdown",
   "id": "4d149c30-9028-4f7d-9e7a-438616cfaa5e",
   "metadata": {},
   "source": [
    "# What are operators"
   ]
  },
  {
   "cell_type": "markdown",
   "id": "c60af2bf-bbc2-494b-af7c-db8cbafe1547",
   "metadata": {},
   "source": [
    "An operator in Python is a symbol that performs a task on one or more operands. A variable or a value on which the operation is performed is referred to as an operand. \n",
    "\n",
    "Depending on the type of operator utilized in the operation, the result changes. Operators are special symbols or constructs that are used to manipulate the values of operands.\n",
    "\n",
    "For example, if you wish to add two variables or values together, you can do it with the addition operator. The operand values might be variables or any data type available in Python."
   ]
  },
  {
   "cell_type": "markdown",
   "id": "941c0bfb-74f8-438e-b9d9-2cf328e3f910",
   "metadata": {},
   "source": [
    "# Types of operators"
   ]
  },
  {
   "cell_type": "markdown",
   "id": "c75e6fdc-1557-4f11-9778-4df594505e6f",
   "metadata": {},
   "source": [
    "## Arthematic\n",
    "\n",
    "+\tAddition\tAdds together two values\tx + y\n"
   ]
  },
  {
   "cell_type": "markdown",
   "id": "00ca2112-c341-425d-85a5-9c8273af91cf",
   "metadata": {},
   "source": [
    "-\tSubtraction\tSubtracts one value from another\tx - y\n"
   ]
  },
  {
   "cell_type": "markdown",
   "id": "b1a0e45c-0ada-4162-bb8c-23e10776db6c",
   "metadata": {},
   "source": [
    "\n",
    " *\tMultiplication\tMultiplies two values\tx * y\t\n"
   ]
  },
  {
   "cell_type": "markdown",
   "id": "0b7e589a-6d7b-4440-a586-b1ce4c2ac345",
   "metadata": {},
   "source": [
    "/\tDivision\tDivides one value by another\tx / y\t"
   ]
  },
  {
   "cell_type": "markdown",
   "id": "623e0667-eccb-4fb8-b604-42a07a3ed98f",
   "metadata": {},
   "source": [
    "\n",
    "%\tModulus\tReturns the division remainder\tx % y\t"
   ]
  },
  {
   "cell_type": "markdown",
   "id": "e960b5ad-5741-4417-96b4-f72b7a8005fa",
   "metadata": {},
   "source": [
    "\n",
    "//\tfloat division\n"
   ]
  },
  {
   "cell_type": "code",
   "execution_count": 24,
   "id": "59510172-03af-4155-a144-bc15209acaa8",
   "metadata": {},
   "outputs": [
    {
     "name": "stdout",
     "output_type": "stream",
     "text": [
      "7\n"
     ]
    }
   ],
   "source": [
    "a = 4\n",
    "b = 3\n",
    "x = a+b\n",
    "print(x)"
   ]
  },
  {
   "cell_type": "code",
   "execution_count": 28,
   "id": "2b8b6ba0-e727-4e43-8963-d0353563c502",
   "metadata": {},
   "outputs": [
    {
     "name": "stdout",
     "output_type": "stream",
     "text": [
      "2\n"
     ]
    }
   ],
   "source": [
    "a =5\n",
    "b = 3\n",
    "x = a-b\n",
    "print(x)"
   ]
  },
  {
   "cell_type": "code",
   "execution_count": 30,
   "id": "bf4e1194-30ff-4ad7-b19b-4fafdf36f2b7",
   "metadata": {},
   "outputs": [
    {
     "name": "stdout",
     "output_type": "stream",
     "text": [
      "9\n"
     ]
    }
   ],
   "source": [
    "a = 3\n",
    "b = 3\n",
    "x = a*b\n",
    "print(x)"
   ]
  },
  {
   "cell_type": "code",
   "execution_count": 32,
   "id": "a7cd667e-18a6-4ce6-bba5-1a35e5cd19f6",
   "metadata": {},
   "outputs": [
    {
     "name": "stdout",
     "output_type": "stream",
     "text": [
      "0.5\n"
     ]
    }
   ],
   "source": [
    "a = 5\n",
    "b = 10\n",
    "x = a/b//= (float assignement)\n",
    "print(x)"
   ]
  },
  {
   "cell_type": "code",
   "execution_count": 34,
   "id": "c1e087b8-2fc6-45d6-b2b4-c2d8696f0729",
   "metadata": {},
   "outputs": [
    {
     "name": "stdout",
     "output_type": "stream",
     "text": [
      "3\n"
     ]
    }
   ],
   "source": [
    "a = 3\n",
    "b = 9\n",
    "x = a%b\n",
    "print(x)"
   ]
  },
  {
   "cell_type": "code",
   "execution_count": 37,
   "id": "86f52178-3b36-4939-96a5-0383d1b911ff",
   "metadata": {},
   "outputs": [
    {
     "name": "stdout",
     "output_type": "stream",
     "text": [
      "0\n"
     ]
    }
   ],
   "source": [
    "a = 2\n",
    "b = 3\n",
    "x = a//b\n",
    "print(x)"
   ]
  },
  {
   "cell_type": "markdown",
   "id": "041a64d1-73a4-4b6d-8592-a9a20a8e10cc",
   "metadata": {},
   "source": [
    "## Assiniment"
   ]
  },
  {
   "cell_type": "markdown",
   "id": "58d3b319-be91-4af4-87f5-806ee23e7633",
   "metadata": {},
   "source": [
    "+= (adition assignment)\n"
   ]
  },
  {
   "cell_type": "markdown",
   "id": "d4a4b00a-aa92-4844-b86f-64daae186395",
   "metadata": {},
   "source": [
    "-= (subtration assignment)\n"
   ]
  },
  {
   "cell_type": "markdown",
   "id": "197db7a2-54d2-4175-952c-0b70cd26df8b",
   "metadata": {},
   "source": [
    "*= (multiplication assignment)\n"
   ]
  },
  {
   "cell_type": "markdown",
   "id": "3e554337-4615-45a6-8f71-2936c269d930",
   "metadata": {},
   "source": [
    "**= (exponential assignment)\n"
   ]
  },
  {
   "cell_type": "markdown",
   "id": "2076e197-23a1-4696-bd74-28e0885bedeb",
   "metadata": {},
   "source": [
    "/= (divission assignment)\n"
   ]
  },
  {
   "cell_type": "markdown",
   "id": "1b3684b9-1872-40b3-9c39-997b0e1189c0",
   "metadata": {},
   "source": [
    "%= (mod assignment)\n"
   ]
  },
  {
   "cell_type": "markdown",
   "id": "77376a92-6cd2-4db6-90e1-f3a569ec1954",
   "metadata": {},
   "source": [
    "//= (float assignement)"
   ]
  },
  {
   "cell_type": "code",
   "execution_count": 56,
   "id": "3c5390d2-9bce-44a1-a74f-17dd912c6d07",
   "metadata": {},
   "outputs": [
    {
     "name": "stdout",
     "output_type": "stream",
     "text": [
      "10\n"
     ]
    }
   ],
   "source": [
    "a = 5\n",
    "b = 5\n",
    "a += b\n",
    "print(a)"
   ]
  },
  {
   "cell_type": "code",
   "execution_count": 58,
   "id": "ba9f2834-03f8-4404-97f2-2838c1c79a44",
   "metadata": {},
   "outputs": [
    {
     "name": "stdout",
     "output_type": "stream",
     "text": [
      "2\n"
     ]
    }
   ],
   "source": [
    "a = 8\n",
    "b = 6\n",
    "a -= b\n",
    "print(a)"
   ]
  },
  {
   "cell_type": "code",
   "execution_count": 60,
   "id": "0c07815f-7fe4-4f00-aa94-7ab2504d2180",
   "metadata": {},
   "outputs": [
    {
     "name": "stdout",
     "output_type": "stream",
     "text": [
      "4.0\n"
     ]
    }
   ],
   "source": [
    "a = 8\n",
    "b = 2\n",
    "a /= b\n",
    "print(a)\n"
   ]
  },
  {
   "cell_type": "code",
   "execution_count": 62,
   "id": "cf8392d9-b653-474b-83d7-e86e0ab771f0",
   "metadata": {},
   "outputs": [
    {
     "name": "stdout",
     "output_type": "stream",
     "text": [
      "10\n"
     ]
    }
   ],
   "source": [
    "a = 5\n",
    "b = 2 \n",
    "a *= b\n",
    "print(a)"
   ]
  },
  {
   "cell_type": "code",
   "execution_count": 64,
   "id": "ad8f0159-9c3d-44e4-a533-8d5297e11a43",
   "metadata": {},
   "outputs": [
    {
     "name": "stdout",
     "output_type": "stream",
     "text": [
      "4\n"
     ]
    }
   ],
   "source": [
    "a = 2\n",
    "b = 2\n",
    "a **= b\n",
    "print(a)"
   ]
  },
  {
   "cell_type": "code",
   "execution_count": 66,
   "id": "1910a626-a92c-4c48-9c9b-b0d11cdab486",
   "metadata": {},
   "outputs": [
    {
     "name": "stdout",
     "output_type": "stream",
     "text": [
      "2\n"
     ]
    }
   ],
   "source": [
    "a = 6\n",
    "b = 4\n",
    "a %= b\n",
    "print(a)"
   ]
  },
  {
   "cell_type": "code",
   "execution_count": 70,
   "id": "89bebc74-98cc-49a5-9846-1f34ec1e09df",
   "metadata": {},
   "outputs": [
    {
     "name": "stdout",
     "output_type": "stream",
     "text": [
      "3\n"
     ]
    }
   ],
   "source": [
    "a = 7\n",
    "b = 2\n",
    "a //= b\n",
    "print(a)"
   ]
  },
  {
   "cell_type": "markdown",
   "id": "eac20089-3793-4efc-8d50-4e440c608037",
   "metadata": {},
   "source": [
    "## Comparission"
   ]
  },
  {
   "cell_type": "markdown",
   "id": "ec36488b-2e35-40c8-943d-3e84a585c058",
   "metadata": {},
   "source": [
    "== (real eual)"
   ]
  },
  {
   "cell_type": "markdown",
   "id": "62af4b24-56a8-4e6d-8f70-84f2ee24332c",
   "metadata": {},
   "source": [
    "!= (not equal)"
   ]
  },
  {
   "cell_type": "markdown",
   "id": "c2c805ad-8ca9-4946-96f8-40d6a9a4f780",
   "metadata": {},
   "source": [
    "<= (lessthan or equal)"
   ]
  },
  {
   "cell_type": "markdown",
   "id": "211931c5-947e-4d57-a102-764046a40cef",
   "metadata": {},
   "source": [
    ".>= (greaterthan or equal)"
   ]
  },
  {
   "cell_type": "markdown",
   "id": "258c7a85-681a-4242-a54c-d340a5b274d1",
   "metadata": {},
   "source": [
    ".> (greaterthan)"
   ]
  },
  {
   "cell_type": "markdown",
   "id": "6fc5e721-6741-4868-9afe-6dee0cdf1492",
   "metadata": {},
   "source": [
    ".< (lessthan)"
   ]
  },
  {
   "cell_type": "code",
   "execution_count": 91,
   "id": "5a6e87da-0946-4943-9195-96d86b03e355",
   "metadata": {},
   "outputs": [
    {
     "name": "stdout",
     "output_type": "stream",
     "text": [
      "True\n"
     ]
    }
   ],
   "source": [
    "a = 3\n",
    "b = 3\n",
    "a == b\n",
    "print (a == b)"
   ]
  },
  {
   "cell_type": "code",
   "execution_count": 93,
   "id": "47c78434-05d8-47fc-ba5b-b1cc16254398",
   "metadata": {},
   "outputs": [
    {
     "name": "stdout",
     "output_type": "stream",
     "text": [
      "False\n"
     ]
    }
   ],
   "source": [
    "a = 5\n",
    "b = 5\n",
    "a != b\n",
    "print (a != b)"
   ]
  },
  {
   "cell_type": "code",
   "execution_count": 95,
   "id": "35587c12-10a5-4be1-8799-907ecdd2cf5d",
   "metadata": {},
   "outputs": [
    {
     "name": "stdout",
     "output_type": "stream",
     "text": [
      "True\n"
     ]
    }
   ],
   "source": [
    "a = 4\n",
    "b = 5\n",
    "a <= b\n",
    "print (a <= b)"
   ]
  },
  {
   "cell_type": "code",
   "execution_count": 97,
   "id": "0de051ff-07fd-46d0-b70f-493a642f8720",
   "metadata": {},
   "outputs": [
    {
     "name": "stdout",
     "output_type": "stream",
     "text": [
      "True\n"
     ]
    }
   ],
   "source": [
    "a = 5\n",
    "b = 4\n",
    "a >= b\n",
    "print(a >= b)"
   ]
  },
  {
   "cell_type": "code",
   "execution_count": 99,
   "id": "3026596f-9ded-49ae-9201-700d3992b840",
   "metadata": {},
   "outputs": [
    {
     "name": "stdout",
     "output_type": "stream",
     "text": [
      "False\n"
     ]
    }
   ],
   "source": [
    "a = 5\n",
    "b = 6\n",
    "a > b\n",
    "print(a > b)"
   ]
  },
  {
   "cell_type": "code",
   "execution_count": 101,
   "id": "d788724f-dcc3-44ee-891e-93dc24a86859",
   "metadata": {},
   "outputs": [
    {
     "name": "stdout",
     "output_type": "stream",
     "text": [
      "False\n"
     ]
    }
   ],
   "source": [
    "a = 7\n",
    "b = 6\n",
    "print(a < b)"
   ]
  },
  {
   "cell_type": "markdown",
   "id": "97d9be5b-8e06-47d1-817e-dd34e29e39a8",
   "metadata": {},
   "source": [
    "## Logical"
   ]
  },
  {
   "cell_type": "markdown",
   "id": "406f4cf7-b177-413d-9347-0007117ac10a",
   "metadata": {},
   "source": [
    "and (only works when both the lhs and rhs condition is satisfied)"
   ]
  },
  {
   "cell_type": "markdown",
   "id": "db5d4d82-438b-4e58-a27e-8942afee949b",
   "metadata": {},
   "source": [
    "or( either one is satisfied)"
   ]
  },
  {
   "cell_type": "markdown",
   "id": "fbbb0d17-1a23-4c32-8439-9194a5edfbce",
   "metadata": {},
   "source": [
    "not( returns true if the operand is false)"
   ]
  },
  {
   "cell_type": "code",
   "execution_count": 117,
   "id": "1868ef4d-a923-4fcc-a19a-6bbd0f80060d",
   "metadata": {},
   "outputs": [
    {
     "name": "stdout",
     "output_type": "stream",
     "text": [
      "True\n"
     ]
    }
   ],
   "source": [
    "a = 3\n",
    "b = 7\n",
    "print(a > 2 and b > 3)\n"
   ]
  },
  {
   "cell_type": "code",
   "execution_count": 119,
   "id": "8ef831f6-daf8-41bb-8c22-d6a0dc2fb1b9",
   "metadata": {},
   "outputs": [
    {
     "name": "stdout",
     "output_type": "stream",
     "text": [
      "False\n"
     ]
    }
   ],
   "source": [
    "a = 3 \n",
    "b = 4\n",
    "print(a <2 and b <10)"
   ]
  },
  {
   "cell_type": "code",
   "execution_count": 123,
   "id": "2c59720d-42a1-4168-a91b-66efcc4a6973",
   "metadata": {},
   "outputs": [
    {
     "name": "stdout",
     "output_type": "stream",
     "text": [
      "True\n"
     ]
    }
   ],
   "source": [
    "a = 5\n",
    "b = 6\n",
    "print(a > 4 or b < 6)"
   ]
  },
  {
   "cell_type": "code",
   "execution_count": 137,
   "id": "f2903b03-5684-434c-94bf-f2848e09f0e1",
   "metadata": {},
   "outputs": [
    {
     "name": "stdout",
     "output_type": "stream",
     "text": [
      "True\n"
     ]
    }
   ],
   "source": [
    "a = 7\n",
    "b = 6\n",
    "print(a > 6 or b > 5)"
   ]
  },
  {
   "cell_type": "code",
   "execution_count": 135,
   "id": "97a94192-55ac-4f58-a7ee-fdb3d9514005",
   "metadata": {},
   "outputs": [
    {
     "name": "stdout",
     "output_type": "stream",
     "text": [
      "False\n"
     ]
    }
   ],
   "source": [
    "a = 4\n",
    "b = 3\n",
    "print(a < 3 or b > 4)"
   ]
  },
  {
   "cell_type": "code",
   "execution_count": 131,
   "id": "76d32225-c9e1-4aaa-84aa-48600b91e10f",
   "metadata": {},
   "outputs": [
    {
     "name": "stdout",
     "output_type": "stream",
     "text": [
      "True\n"
     ]
    }
   ],
   "source": [
    "a = 4\n",
    "b = 3\n",
    "print(not(a < 3 or b > 4))"
   ]
  },
  {
   "cell_type": "code",
   "execution_count": 139,
   "id": "e011b539-44b4-4cc5-af74-786ae7a2658e",
   "metadata": {},
   "outputs": [
    {
     "name": "stdout",
     "output_type": "stream",
     "text": [
      "False\n"
     ]
    }
   ],
   "source": [
    "a = 7\n",
    "b = 6\n",
    "print(not(a > 6 or b > 5))"
   ]
  },
  {
   "cell_type": "markdown",
   "id": "b07b0224-3b0f-47fe-afde-30cbc63e7a5e",
   "metadata": {},
   "source": [
    "# Identity operators"
   ]
  },
  {
   "cell_type": "markdown",
   "id": "85d3990d-cb6c-463e-8fce-d656f8c3bf77",
   "metadata": {},
   "source": [
    "is (returns true if the both variables are same object) x = y"
   ]
  },
  {
   "cell_type": "markdown",
   "id": "f79c601c-2b9f-49ea-9c20-c2653422afbe",
   "metadata": {},
   "source": [
    "is not (Returns true if both variables are not the same object) x != y"
   ]
  },
  {
   "cell_type": "code",
   "execution_count": 152,
   "id": "8b737fb0-5ae4-47e0-9add-dba051ee7f77",
   "metadata": {},
   "outputs": [
    {
     "name": "stdout",
     "output_type": "stream",
     "text": [
      "True\n"
     ]
    }
   ],
   "source": [
    "a = 3\n",
    "b = 3\n",
    "print(a is b)"
   ]
  },
  {
   "cell_type": "code",
   "execution_count": 146,
   "id": "15ddff2a-fbe4-4404-88a9-ac0de6ae9590",
   "metadata": {},
   "outputs": [
    {
     "name": "stdout",
     "output_type": "stream",
     "text": [
      "False\n"
     ]
    }
   ],
   "source": [
    "a = 3\n",
    "b = 3\n",
    "print(a is not b)"
   ]
  },
  {
   "cell_type": "code",
   "execution_count": 148,
   "id": "35271bf4-7ede-429d-a95d-2a6e6becbe60",
   "metadata": {},
   "outputs": [
    {
     "name": "stdout",
     "output_type": "stream",
     "text": [
      "False\n"
     ]
    }
   ],
   "source": [
    "a = 5\n",
    "b = 3\n",
    "print(a is b)"
   ]
  },
  {
   "cell_type": "code",
   "execution_count": 156,
   "id": "ffc93f8b-9c15-4397-a151-e7dafc01386b",
   "metadata": {},
   "outputs": [
    {
     "name": "stdout",
     "output_type": "stream",
     "text": [
      "True\n"
     ]
    }
   ],
   "source": [
    "a = 5\n",
    "b = 3\n",
    "print(a is not b)"
   ]
  },
  {
   "cell_type": "markdown",
   "id": "be15f7d5-0a34-49c7-a27d-03a3c51109a5",
   "metadata": {},
   "source": [
    "# Membership operators"
   ]
  },
  {
   "cell_type": "markdown",
   "id": "4293f313-ab58-4c2e-9c2d-b0297a922a17",
   "metadata": {},
   "source": [
    "in \t(Returns True if a sequence with the specified value is present in the object)\tx in y"
   ]
  },
  {
   "cell_type": "markdown",
   "id": "ee775d3b-9db4-44fe-a2a5-b852015da66f",
   "metadata": {},
   "source": [
    "not in\t(Returns True if a sequence with the specified value is not present in the object)\tx not in y"
   ]
  },
  {
   "cell_type": "code",
   "execution_count": 163,
   "id": "0bb200b8-fc7c-402f-9dcb-22d7165bd365",
   "metadata": {},
   "outputs": [
    {
     "name": "stdout",
     "output_type": "stream",
     "text": [
      "True\n"
     ]
    }
   ],
   "source": [
    "x = \"Hello, World!\"\n",
    "print(\"hello\" not in x)"
   ]
  },
  {
   "cell_type": "code",
   "execution_count": 165,
   "id": "0d54acdf-5dea-4414-bcfb-876d036c3435",
   "metadata": {},
   "outputs": [
    {
     "name": "stdout",
     "output_type": "stream",
     "text": [
      "True\n"
     ]
    }
   ],
   "source": [
    "x = \"Hello, World!\"\n",
    "print(\"ello\" in x)"
   ]
  },
  {
   "cell_type": "code",
   "execution_count": 167,
   "id": "34d21cce-0306-499c-bb4e-9553eab2b77a",
   "metadata": {},
   "outputs": [
    {
     "name": "stdout",
     "output_type": "stream",
     "text": [
      "False\n"
     ]
    }
   ],
   "source": [
    "x = \"Hello, World!\"\n",
    "print(\"h\" in x)"
   ]
  },
  {
   "cell_type": "code",
   "execution_count": 171,
   "id": "6c6b83e7-6b66-4aa2-86d0-ff2c31c77ba5",
   "metadata": {},
   "outputs": [
    {
     "name": "stdout",
     "output_type": "stream",
     "text": [
      "False\n"
     ]
    }
   ],
   "source": [
    "x = \"Hello, World!\"\n",
    "print(\"w\" in x)"
   ]
  },
  {
   "cell_type": "markdown",
   "id": "ed93d1fe-89d8-4dd5-a066-b99ba3d90b86",
   "metadata": {},
   "source": [
    "# Bitwise operators"
   ]
  },
  {
   "cell_type": "markdown",
   "id": "1294b2f5-7ad7-49e2-bcc9-4492708e5037",
   "metadata": {},
   "source": [
    "1. The & (bitwise AND) in C takes two numbers as operands and does AND on every bit of two numbers. The result of AND is 1 only if both bits are 1.  "
   ]
  },
  {
   "cell_type": "markdown",
   "id": "fc2203c3-87d0-46da-8a50-4df22964225f",
   "metadata": {},
   "source": [
    "2. The | (bitwise OR) in C takes two numbers as operands and does OR on every bit of two numbers. The result of OR is 1 if any of the two bits is 1. \n"
   ]
  },
  {
   "cell_type": "markdown",
   "id": "3bc0d6c0-2585-4c79-868e-89688135702d",
   "metadata": {},
   "source": [
    "3. The ^ (bitwise XOR) in C takes two numbers as operands and does XOR on every bit of two numbers. The result of XOR is 1 if the two bits are different. \n"
   ]
  },
  {
   "cell_type": "markdown",
   "id": "af5efa9f-f220-4434-8fe2-e93165f4eee0",
   "metadata": {},
   "source": [
    "4. The << (left shift) in C takes two numbers, the left shifts the bits of the first operand, and the second operand decides the number of places to shift. "
   ]
  },
  {
   "cell_type": "markdown",
   "id": "b84824d9-6624-4e60-83b4-b3ec03e80f10",
   "metadata": {},
   "source": [
    "5. The >> (right shift) in C takes two numbers, right shifts the bits of the first operand, and the second operand decides the number of places to shift. "
   ]
  },
  {
   "cell_type": "markdown",
   "id": "8698be3f-0551-45a5-9e33-0f6c2a944f26",
   "metadata": {},
   "source": [
    "6. The ~ (bitwise NOT) in C takes one number and inverts all bits of it.\n"
   ]
  },
  {
   "cell_type": "code",
   "execution_count": 181,
   "id": "0fc9729f-30d4-440d-a7df-316b07d3201a",
   "metadata": {},
   "outputs": [
    {
     "name": "stdout",
     "output_type": "stream",
     "text": [
      "8\n"
     ]
    }
   ],
   "source": [
    "a = 76\n",
    "b = 56\n",
    "print (a & b)"
   ]
  },
  {
   "cell_type": "code",
   "execution_count": 189,
   "id": "6fa13c66-cd0c-4122-838f-2b51727ec7d3",
   "metadata": {},
   "outputs": [
    {
     "name": "stdout",
     "output_type": "stream",
     "text": [
      "381\n"
     ]
    }
   ],
   "source": [
    "a = 125\n",
    "b = 368\n",
    "print (a | b)"
   ]
  },
  {
   "cell_type": "code",
   "execution_count": 193,
   "id": "b241c637-8079-4cd6-a948-0c3ef793f8fb",
   "metadata": {},
   "outputs": [
    {
     "name": "stdout",
     "output_type": "stream",
     "text": [
      "97\n"
     ]
    }
   ],
   "source": [
    "a = 44\n",
    "b = 77\n",
    "print (a ^ b)"
   ]
  },
  {
   "cell_type": "code",
   "execution_count": 197,
   "id": "3f37eea1-f378-487d-a0bc-4c00136c8413",
   "metadata": {},
   "outputs": [
    {
     "name": "stdout",
     "output_type": "stream",
     "text": [
      "14\n"
     ]
    }
   ],
   "source": [
    "a = 7\n",
    "b = 1\n",
    "print (a << b)"
   ]
  },
  {
   "cell_type": "code",
   "execution_count": 205,
   "id": "5c362fb8-31cc-4ea2-989b-505ec52f5cfb",
   "metadata": {},
   "outputs": [
    {
     "name": "stdout",
     "output_type": "stream",
     "text": [
      "34\n"
     ]
    }
   ],
   "source": [
    "a = 68\n",
    "b = 1\n",
    "print (a >> b)"
   ]
  },
  {
   "cell_type": "code",
   "execution_count": 217,
   "id": "e2bd09d7-bc08-4f18-9e1c-62797fb08a0a",
   "metadata": {},
   "outputs": [
    {
     "name": "stdout",
     "output_type": "stream",
     "text": [
      "-8\n"
     ]
    }
   ],
   "source": [
    "a = 7\n",
    "b = -1\n",
    "print ( ~ a)"
   ]
  },
  {
   "cell_type": "code",
   "execution_count": null,
   "id": "04f25c9b-68fe-4353-83c1-ca4d7bf8734f",
   "metadata": {},
   "outputs": [],
   "source": []
  }
 ],
 "metadata": {
  "kernelspec": {
   "display_name": "Python 3 (ipykernel)",
   "language": "python",
   "name": "python3"
  },
  "language_info": {
   "codemirror_mode": {
    "name": "ipython",
    "version": 3
   },
   "file_extension": ".py",
   "mimetype": "text/x-python",
   "name": "python",
   "nbconvert_exporter": "python",
   "pygments_lexer": "ipython3",
   "version": "3.12.4"
  }
 },
 "nbformat": 4,
 "nbformat_minor": 5
}
