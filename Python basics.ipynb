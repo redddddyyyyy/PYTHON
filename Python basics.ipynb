{
 "cells": [
  {
   "cell_type": "markdown",
   "id": "9edc2703-3853-4d74-8523-ca2131746cf2",
   "metadata": {},
   "source": [
    "# what is python\n"
   ]
  },
  {
   "cell_type": "markdown",
   "id": "3014a66e-89ce-4a6b-b6ca-62cd0ab7053b",
   "metadata": {},
   "source": [
    "Python is a versatile, high-level programming language known for its simplicity and readability, making it ideal for beginners and experts alike. It supports multiple programming paradigms, including procedural, object-oriented, and functional programming, and is widely used in web development, data science, automation, and more."
   ]
  },
  {
   "cell_type": "markdown",
   "id": "87f4ffec-c622-43fa-92d0-c781a0de6543",
   "metadata": {},
   "source": [
    "# History of python\n",
    "Python was created by Guido van Rossum, a Dutch programmer working for the Centrum Wiskunde & Informatica (CWI) in the Netherlands, as a hobby project to keep himself busy during the Christmas holidays of 1989. His aim was to develop a language that emphasized code readability and simplicity. The name “Python” was inspired by the British comedy series “Monty Python’s Flying Circus,” which Van Rossum was a fan of"
   ]
  },
  {
   "cell_type": "markdown",
   "id": "5db6e912-6ba5-4efb-b112-0e34cb850fa4",
   "metadata": {},
   "source": [
    "# Features of python"
   ]
  },
  {
   "cell_type": "markdown",
   "id": "fd396af4-f429-40ba-9254-b76a05952c69",
   "metadata": {},
   "source": [
    "Free and Open Source,\n",
    "Beginner Friendly,\n",
    "Portability,\n",
    "Library Support,\n",
    "Easy GUI Development."
   ]
  },
  {
   "cell_type": "markdown",
   "id": "bead9569-4d4a-4298-a623-6b4d8b6c1c81",
   "metadata": {},
   "source": [
    "# Applications of python"
   ]
  },
  {
   "cell_type": "markdown",
   "id": "facc4cbf-71cd-45f4-9b08-9245231e1868",
   "metadata": {},
   "source": [
    ". Creating GUI Apps"
   ]
  },
  {
   "cell_type": "markdown",
   "id": "9a27bead-19c9-4888-a062-1ceb13703fa1",
   "metadata": {},
   "source": [
    ". Performing Complex Calculations"
   ]
  },
  {
   "cell_type": "markdown",
   "id": "d9432a17-0990-4cf2-9413-c2839aff3a86",
   "metadata": {},
   "source": [
    ". Business Applications of Python"
   ]
  },
  {
   "cell_type": "markdown",
   "id": "73deff3d-6965-4f1e-a6fb-add9ecabb2c1",
   "metadata": {},
   "source": [
    ". Human-Machine Interaction"
   ]
  },
  {
   "cell_type": "markdown",
   "id": "7c6f42d6-496c-44d0-9d9b-775a5e1437eb",
   "metadata": {},
   "source": [
    ".  Image Processing and Graphic Design Applications of Python"
   ]
  },
  {
   "cell_type": "markdown",
   "id": "2ade1bea-c1fd-4828-b137-50ed1e020f5f",
   "metadata": {},
   "source": [
    "# Advantages of python"
   ]
  },
  {
   "cell_type": "markdown",
   "id": "ab09c4b5-35f6-4f54-b478-281b53031a19",
   "metadata": {},
   "source": [
    ". Clear and Readable Syntax                   "
   ]
  },
  {
   "cell_type": "markdown",
   "id": "878d569a-9f6d-4442-8ea5-0381ff90e29b",
   "metadata": {},
   "source": [
    ".  Vast Libraries Support"
   ]
  },
  {
   "cell_type": "markdown",
   "id": "af83a660-f5a1-4448-af05-92e1bc9d1b52",
   "metadata": {},
   "source": [
    ".  Multi-purpose Programming Language"
   ]
  },
  {
   "cell_type": "markdown",
   "id": "1a5f3555-63d5-4e92-b398-965364ad19de",
   "metadata": {},
   "source": [
    ". Highly Compatible with Multiple Programming Languages"
   ]
  },
  {
   "cell_type": "markdown",
   "id": "508115df-89b5-4f2b-95e2-0d73cb89d556",
   "metadata": {},
   "source": [
    "# Disadvantages of python"
   ]
  },
  {
   "cell_type": "markdown",
   "id": "5db7de4a-7d3a-4117-9841-0e4a1508b301",
   "metadata": {},
   "source": [
    ". Low Speed"
   ]
  },
  {
   "cell_type": "markdown",
   "id": "6cf0dee9-580f-4968-9cef-888f774e5394",
   "metadata": {},
   "source": [
    ". High Memory Consumption"
   ]
  },
  {
   "cell_type": "markdown",
   "id": "26ebf918-fbdd-45a0-b390-25be780a8871",
   "metadata": {},
   "source": [
    ".  Security"
   ]
  },
  {
   "cell_type": "markdown",
   "id": "03da4ff3-edc9-4997-b74b-363371bdd1e2",
   "metadata": {},
   "source": [
    "# python first program"
   ]
  },
  {
   "cell_type": "code",
   "execution_count": 43,
   "id": "087b16d2-bac9-43cc-b3e5-e20d9c41bcf4",
   "metadata": {},
   "outputs": [
    {
     "name": "stdout",
     "output_type": "stream",
     "text": [
      "hello world\n"
     ]
    }
   ],
   "source": [
    "print(\"hello world\") # this is the first program im python"
   ]
  },
  {
   "cell_type": "markdown",
   "id": "2f465c5b-ffe3-4b35-88d4-ffb54a6c7387",
   "metadata": {},
   "source": [
    "# Comments\n",
    "In Python, comments are used to annotate code and explain what it does, making it easier for others (and yourself) to understand the code. Comments are ignored by the Python interpreter and have no effect on how the code runs."
   ]
  },
  {
   "cell_type": "markdown",
   "id": "0da1d7de-3d1e-4ccd-a5e5-beb06b743408",
   "metadata": {},
   "source": [
    "## Types of Comments in Python:"
   ]
  },
  {
   "cell_type": "markdown",
   "id": "60b206d5-918b-4b36-9e44-bafa1e27a58b",
   "metadata": {},
   "source": [
    "1.Single-Line Comments"
   ]
  },
  {
   "cell_type": "code",
   "execution_count": 62,
   "id": "be605e0a-a93e-4b06-8c65-c2fdf704a6d6",
   "metadata": {},
   "outputs": [],
   "source": [
    "# this is a comment"
   ]
  },
  {
   "cell_type": "markdown",
   "id": "81fe0284-77bb-4008-9692-9907124ace0c",
   "metadata": {},
   "source": [
    "2.multi line comments"
   ]
  },
  {
   "cell_type": "code",
   "execution_count": 65,
   "id": "5977e831-a1ce-44b3-b207-91f6abc7056a",
   "metadata": {},
   "outputs": [],
   "source": [
    "# this is a multi line comment\n",
    "#xyz"
   ]
  },
  {
   "cell_type": "markdown",
   "id": "0ca8742d-2052-4875-8936-5220cd858304",
   "metadata": {},
   "source": [
    "# Key words"
   ]
  },
  {
   "cell_type": "markdown",
   "id": "149a048f-7d04-4084-8cd1-89dfce5b2b19",
   "metadata": {},
   "source": [
    "Python keywords are reserved words that have a special meaning associated with them and can’t be used for anything but those specific purposes. Each keyword is designed to achieve specific functionality"
   ]
  },
  {
   "cell_type": "markdown",
   "id": "509349cd-9618-4531-91fa-dccc0b2b7070",
   "metadata": {},
   "source": [
    "## Python keywords are case-sensitive.\n",
    "\n",
    "All keywords contain only letters (no special symbols)\n",
    "Except for three keywords (True, False, None), all keywords have lower case letters"
   ]
  },
  {
   "cell_type": "code",
   "execution_count": 72,
   "id": "006b69b3-0a83-4ce4-a0de-4e4868894217",
   "metadata": {},
   "outputs": [
    {
     "name": "stdout",
     "output_type": "stream",
     "text": [
      "Python Keywords:\n",
      "False\n",
      "None\n",
      "True\n",
      "and\n",
      "as\n",
      "assert\n",
      "async\n",
      "await\n",
      "break\n",
      "class\n",
      "continue\n",
      "def\n",
      "del\n",
      "elif\n",
      "else\n",
      "except\n",
      "finally\n",
      "for\n",
      "from\n",
      "global\n",
      "if\n",
      "import\n",
      "in\n",
      "is\n",
      "lambda\n",
      "nonlocal\n",
      "not\n",
      "or\n",
      "pass\n",
      "raise\n",
      "return\n",
      "try\n",
      "while\n",
      "with\n",
      "yield\n",
      "\n",
      "Total number of keywords: 35\n"
     ]
    }
   ],
   "source": [
    "import keyword \n",
    "keywords_list = keyword.kwlist # list of key words\n",
    "print(\"Python Keywords:\") # displays the key words \n",
    "for kw in keywords_list:\n",
    "    print(kw)\n",
    "print(f\"\\nTotal number of keywords: {len(keywords_list)}\") # displays the total number of key words"
   ]
  },
  {
   "cell_type": "markdown",
   "id": "a932ac75-cb29-42ad-b77f-56ee546786cc",
   "metadata": {},
   "source": [
    "# Types of Keywords"
   ]
  },
  {
   "cell_type": "markdown",
   "id": "c968b8c7-0ae2-4058-87f2-5391afc46034",
   "metadata": {},
   "source": [
    "### 1. Control Flow Keywords"
   ]
  },
  {
   "cell_type": "markdown",
   "id": "37ae6853-8c19-4cda-ab0e-1b5b1b2b89dd",
   "metadata": {},
   "source": [
    ". if, elif, else: Used for conditional branching."
   ]
  },
  {
   "cell_type": "markdown",
   "id": "84c40419-85dd-40a5-b5d1-757ace834217",
   "metadata": {},
   "source": [
    "\n",
    ". for, while: Used to create loops."
   ]
  },
  {
   "cell_type": "markdown",
   "id": "67c56464-aec4-49d3-b189-a900b158de50",
   "metadata": {},
   "source": [
    "\n",
    ". break: Exits the nearest enclosing loop."
   ]
  },
  {
   "cell_type": "markdown",
   "id": "48ac65e6-bbfd-4518-ba82-d6b52b5c7679",
   "metadata": {},
   "source": [
    "\n",
    ". continue: Skips the rest of the code inside a loop for the current iteration and jumps to the next iteration."
   ]
  },
  {
   "cell_type": "markdown",
   "id": "2fe6b37a-dd60-44b7-9505-54a2e3b1b431",
   "metadata": {},
   "source": [
    "\n",
    ". pass: Does nothing; it’s a placeholder."
   ]
  },
  {
   "cell_type": "markdown",
   "id": "b888f526-2249-46c2-82d3-43ca664d9e1d",
   "metadata": {},
   "source": [
    "\n",
    ". return: Exits a function and optionally returns a value."
   ]
  },
  {
   "cell_type": "markdown",
   "id": "be985e94-4a73-4b92-9ecc-7f9a5409df7d",
   "metadata": {},
   "source": [
    "\n",
    ". with: Used for managing resources (e.g., file operations) using context managers."
   ]
  },
  {
   "cell_type": "markdown",
   "id": "ff3cc5c4-0197-4c59-99ac-adcb570bef4d",
   "metadata": {},
   "source": [
    "\n",
    ". try, except, finally, raise: Used for handling exceptions (errors)."
   ]
  },
  {
   "cell_type": "markdown",
   "id": "9bdf04be-0261-4025-88b8-89df484ed41f",
   "metadata": {},
   "source": [
    "### 2.Variable Assignment and Definition Keywords"
   ]
  },
  {
   "cell_type": "markdown",
   "id": "6358bdfe-da37-48e3-b59a-dc068c755517",
   "metadata": {},
   "source": [
    ". def: Used to define a function."
   ]
  },
  {
   "cell_type": "markdown",
   "id": "1bde2567-c0fc-42c7-a2ec-4c8cffe6c80c",
   "metadata": {},
   "source": [
    "\n",
    ". class: Used to define a class."
   ]
  },
  {
   "cell_type": "markdown",
   "id": "cc1ee69a-326b-4cd8-aa90-dffb00ca0435",
   "metadata": {},
   "source": [
    "\n",
    ". global, nonlocal: Used to declare variables that exist outside of the current scope."
   ]
  },
  {
   "cell_type": "markdown",
   "id": "f95c84ee-3de5-4b9a-b626-add28eaf445b",
   "metadata": {},
   "source": [
    "\n",
    ". lambda: Used to create anonymous functions (functions without a name)."
   ]
  },
  {
   "cell_type": "markdown",
   "id": "d6cdd3f0-1fb9-4930-a6eb-8b97ff3bc3cb",
   "metadata": {},
   "source": [
    "\n",
    ". import, from, as: Used to import modules and define aliases for modules or functions."
   ]
  },
  {
   "cell_type": "markdown",
   "id": "13ee75ee-42f1-40f7-a7c7-fdb522754d16",
   "metadata": {},
   "source": [
    "### 3. Logical and Comparison Keywords"
   ]
  },
  {
   "cell_type": "markdown",
   "id": "c0508172-3d63-4426-a184-89ffd8e62ac8",
   "metadata": {},
   "source": [
    ". and, or, not: Logical operators."
   ]
  },
  {
   "cell_type": "markdown",
   "id": "3e9f6430-3046-4e06-8556-3a5a940ac18e",
   "metadata": {},
   "source": [
    "\n",
    ". is, in: is checks for object identity, in checks for membership within a collection (like a list or a string)."
   ]
  },
  {
   "cell_type": "markdown",
   "id": "e89f366c-e1a4-4845-a339-3058daf810a5",
   "metadata": {},
   "source": [
    "### 4. Data Type Keywords"
   ]
  },
  {
   "cell_type": "markdown",
   "id": "838ccad9-ea7b-4c32-a294-0cbc9d550a2c",
   "metadata": {},
   "source": [
    ". True, False, None: Used to represent the boolean values True and False, and a null value None."
   ]
  },
  {
   "cell_type": "markdown",
   "id": "9099bf96-e814-4569-8444-901d4d32b6bc",
   "metadata": {},
   "source": [
    "### 5. Context-Related Keywords\n"
   ]
  },
  {
   "cell_type": "markdown",
   "id": "ee19d3ff-d4a2-4cea-a15f-a46667b084be",
   "metadata": {},
   "source": [
    ". del: Deletes an object.\n"
   ]
  },
  {
   "cell_type": "markdown",
   "id": "dbea15a9-5d47-4268-add2-7a3ea0555d81",
   "metadata": {},
   "source": [
    "\n",
    ". assert: Used for debugging purposes to test if a condition in your code returns True."
   ]
  },
  {
   "cell_type": "markdown",
   "id": "57cdb464-866a-4deb-9f90-c354e3d8aaff",
   "metadata": {},
   "source": [
    "\n",
    ". yield: Used inside a function like return, but it returns a generator instead of a value."
   ]
  },
  {
   "cell_type": "markdown",
   "id": "0bc4e6af-ad42-4bdb-83a5-175be0db8678",
   "metadata": {},
   "source": [
    "\n",
    ". async, await: Used in asynchronous programming to define asynchronous functions and handle asynchronous operations."
   ]
  },
  {
   "cell_type": "markdown",
   "id": "fccb49af-623b-4241-a866-a62735ef3999",
   "metadata": {},
   "source": [
    "### 6. Miscellaneous Keywords"
   ]
  },
  {
   "cell_type": "markdown",
   "id": "b5712f7e-519d-480e-97f3-16620ad25e57",
   "metadata": {},
   "source": [
    ". print: Used to output data to the console. (Note: print was a keyword in Python 2 but is a function in Python 3.)\n"
   ]
  },
  {
   "cell_type": "markdown",
   "id": "60b6aec4-06f6-4211-aca8-1307a6a07f1a",
   "metadata": {},
   "source": [
    "\n",
    ". exec: Dynamically executes Python code. (Note: exec is a statement in Python 2 but is a function in Python 3.)"
   ]
  },
  {
   "cell_type": "code",
   "execution_count": null,
   "id": "d1b67a11-cbb2-4d4f-838d-2ff61300e373",
   "metadata": {},
   "outputs": [],
   "source": []
  }
 ],
 "metadata": {
  "kernelspec": {
   "display_name": "Python 3 (ipykernel)",
   "language": "python",
   "name": "python3"
  },
  "language_info": {
   "codemirror_mode": {
    "name": "ipython",
    "version": 3
   },
   "file_extension": ".py",
   "mimetype": "text/x-python",
   "name": "python",
   "nbconvert_exporter": "python",
   "pygments_lexer": "ipython3",
   "version": "3.12.4"
  }
 },
 "nbformat": 4,
 "nbformat_minor": 5
}
